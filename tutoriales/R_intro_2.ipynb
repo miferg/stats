{
 "cells": [
  {
   "cell_type": "markdown",
   "metadata": {},
   "source": [
    "# Introducción a R, parte 2\n",
    "Bioinformática para Antropología\n",
    "\n",
    "En esta ocassión vamos a trabajar con tablas de datos aplicando lo que aprendimos en el tutorial anterior.\n",
    "\n",
    "Cuando trabajamos en R, todo lo que hacemos ocurre en un directorio (o carpeta) del sistema de archivos de la computadora al cual se le llama \"directorio de trabajo\". Para cargar una tabla de datos en R este archivo debe estar en el directorio de trabajo o bien darle la ubicación con el camino completo al archivo.\n",
    "\n",
    "## Cargando archivos\n",
    "\n",
    "Le podemos preguntar a R en qué directorio de trabajo nos encontramos:"
   ]
  },
  {
   "cell_type": "code",
   "execution_count": 1,
   "metadata": {},
   "outputs": [
    {
     "data": {
      "text/html": [
       "'/home/miguel/Documents/clases/bioinformatica-para-antropologia'"
      ],
      "text/latex": [
       "'/home/miguel/Documents/clases/bioinformatica-para-antropologia'"
      ],
      "text/markdown": [
       "'/home/miguel/Documents/clases/bioinformatica-para-antropologia'"
      ],
      "text/plain": [
       "[1] \"/home/miguel/Documents/clases/bioinformatica-para-antropologia\""
      ]
     },
     "metadata": {},
     "output_type": "display_data"
    }
   ],
   "source": [
    "getwd()"
   ]
  },
  {
   "cell_type": "markdown",
   "metadata": {},
   "source": [
    "Así pues, es posible cargar cualquier archivo que se encuentre en este directorio. Noten que esta ubicación es de un sistema unix (linux y MacOS), si fuera un sistema windows, la salida se vería así:\n",
    "\n",
    "```C:/Users/Miguel/Documents/clases/bioinformatica-para-antropologia```\n",
    "\n",
    "Como se que mi tabla de datos *cuestionario.cvs* se encuentra en este directorio, la puedo cargar directamente usando la función *read.table()*:"
   ]
  },
  {
   "cell_type": "code",
   "execution_count": 2,
   "metadata": {},
   "outputs": [],
   "source": [
    "cuest <- read.table('cuestionario.csv', sep=',')"
   ]
  },
  {
   "cell_type": "markdown",
   "metadata": {},
   "source": [
    "Si el archivo que me interesa se encuentra en otro directorio, lo puedo cambiar con la función *setwd()*:"
   ]
  },
  {
   "cell_type": "code",
   "execution_count": 3,
   "metadata": {},
   "outputs": [],
   "source": [
    "setwd('/home/miguel/Documents/clases/')"
   ]
  },
  {
   "cell_type": "code",
   "execution_count": 4,
   "metadata": {},
   "outputs": [
    {
     "data": {
      "text/html": [
       "'/home/miguel/Documents/clases'"
      ],
      "text/latex": [
       "'/home/miguel/Documents/clases'"
      ],
      "text/markdown": [
       "'/home/miguel/Documents/clases'"
      ],
      "text/plain": [
       "[1] \"/home/miguel/Documents/clases\""
      ]
     },
     "metadata": {},
     "output_type": "display_data"
    }
   ],
   "source": [
    "getwd()"
   ]
  },
  {
   "cell_type": "markdown",
   "metadata": {},
   "source": [
    "Aunque se que mi tabla está en otro directoio la voy a tratar de cargar para ver que pasa:"
   ]
  },
  {
   "cell_type": "code",
   "execution_count": 5,
   "metadata": {},
   "outputs": [
    {
     "name": "stderr",
     "output_type": "stream",
     "text": [
      "Warning message in file(file, \"rt\"):\n",
      "“cannot open file 'cuestionario.csv': No such file or directory”"
     ]
    },
    {
     "ename": "ERROR",
     "evalue": "Error in file(file, \"rt\"): cannot open the connection\n",
     "output_type": "error",
     "traceback": [
      "Error in file(file, \"rt\"): cannot open the connection\nTraceback:\n",
      "1. read.table(\"cuestionario.csv\", sep = \",\")",
      "2. file(file, \"rt\")"
     ]
    }
   ],
   "source": [
    "cuest <- read.table('cuestionario.csv', sep=',')"
   ]
  },
  {
   "cell_type": "markdown",
   "metadata": {},
   "source": [
    "Esto es un error. Primero R nos dice a grandes razgos que es lo que sucedió y luego enumera la serie de pasos que llevaron al error. El enunciado que nos da la clave en este caso es ```“cannot open file 'cuestionario.csv': No such file or directory”``` ya que nos explica que el problema es que el archivo que le pedimos leer no se encuentra en el directorio de trabajo.\n",
    "\n",
    "A veces tenemos que cargar archivos de diferentes directorios y resultaría engorroso estar cambiando de directorio para cargar cada uno de ellos. Para evitar hacer eso podemos darle a R la ubicación (o *path*) completa a cada archivo sin importar cual sea el directorio de trabajo:"
   ]
  },
  {
   "cell_type": "code",
   "execution_count": 6,
   "metadata": {},
   "outputs": [],
   "source": [
    "cuest <- read.table('/home/miguel/Documents/clases/bioinformatica-para-antropologia/cuestionario.csv', sep=',')"
   ]
  },
  {
   "cell_type": "markdown",
   "metadata": {},
   "source": [
    "Regresamos al directorio original:"
   ]
  },
  {
   "cell_type": "code",
   "execution_count": 7,
   "metadata": {},
   "outputs": [],
   "source": [
    "setwd('/home/miguel/Documents/clases/bioinformatica-para-antropologia')"
   ]
  },
  {
   "cell_type": "code",
   "execution_count": 8,
   "metadata": {},
   "outputs": [
    {
     "data": {
      "text/html": [
       "'/home/miguel/Documents/clases/bioinformatica-para-antropologia'"
      ],
      "text/latex": [
       "'/home/miguel/Documents/clases/bioinformatica-para-antropologia'"
      ],
      "text/markdown": [
       "'/home/miguel/Documents/clases/bioinformatica-para-antropologia'"
      ],
      "text/plain": [
       "[1] \"/home/miguel/Documents/clases/bioinformatica-para-antropologia\""
      ]
     },
     "metadata": {},
     "output_type": "display_data"
    }
   ],
   "source": [
    "getwd()"
   ]
  },
  {
   "cell_type": "markdown",
   "metadata": {},
   "source": [
    "Hemos estado usando la función *read.table()* para cargar la tabla de archivos pero no hemos visto todos sus argumentos clave. Por ahora solo le hemos dado el nombre del archivo a cargar y el separador, que es el caracter en el archivo de texto plano que delimita las columnas. En este caso el separador es una coma.\n",
    "\n",
    "Veamos qué clase tiene el objeto *cuest*:"
   ]
  },
  {
   "cell_type": "code",
   "execution_count": 9,
   "metadata": {},
   "outputs": [
    {
     "data": {
      "text/html": [
       "'data.frame'"
      ],
      "text/latex": [
       "'data.frame'"
      ],
      "text/markdown": [
       "'data.frame'"
      ],
      "text/plain": [
       "[1] \"data.frame\""
      ]
     },
     "metadata": {},
     "output_type": "display_data"
    }
   ],
   "source": [
    "class(cuest)"
   ]
  },
  {
   "cell_type": "markdown",
   "metadata": {},
   "source": [
    "Este tipo de objeto es tal vez el más importante dentro de R y es una matriz en la cual cada fila es una observación o muestra y cada columna es una variable. Muchas fuciones y operadores de R funcionan con objetos de tipo data frame.\n",
    "\n",
    "Echémosle un ojo:"
   ]
  },
  {
   "cell_type": "code",
   "execution_count": 10,
   "metadata": {},
   "outputs": [
    {
     "data": {
      "text/html": [
       "<table>\n",
       "<thead><tr><th scope=col>V1</th><th scope=col>V2</th><th scope=col>V3</th><th scope=col>V4</th><th scope=col>V5</th></tr></thead>\n",
       "<tbody>\n",
       "\t<tr><td>Timestamp                       </td><td>Edad en años:                   </td><td>Estatura en centímetros:        </td><td>Talla de calzado en centímetros:</td><td>¿Le gusta la pizza con piña?    </td></tr>\n",
       "\t<tr><td>3/31/2020 14:12:05              </td><td>30                              </td><td>190                             </td><td>7                               </td><td>No                              </td></tr>\n",
       "\t<tr><td>3/31/2020 14:13:21              </td><td>29                              </td><td>170                             </td><td>70                              </td><td>No                              </td></tr>\n",
       "\t<tr><td>3/31/2020 14:14:09              </td><td>29                              </td><td>166                             </td><td>255                             </td><td>Si                              </td></tr>\n",
       "\t<tr><td>3/31/2020 14:14:11              </td><td>28                              </td><td>184                             </td><td>28                              </td><td>Si                              </td></tr>\n",
       "\t<tr><td>3/31/2020 14:14:24              </td><td>30                              </td><td>167                             </td><td>27.5                            </td><td>Si                              </td></tr>\n",
       "\t<tr><td>3/31/2020 14:14:32              </td><td>29                              </td><td>180                             </td><td>28                              </td><td>Si                              </td></tr>\n",
       "\t<tr><td>3/31/2020 14:17:18              </td><td>29                              </td><td>175                             </td><td>28.5                            </td><td>Si                              </td></tr>\n",
       "\t<tr><td>3/31/2020 14:17:35              </td><td>20                              </td><td>160                             </td><td>23                              </td><td>No                              </td></tr>\n",
       "\t<tr><td>3/31/2020 14:19:37              </td><td>39                              </td><td>155                             </td><td>23                              </td><td>Si                              </td></tr>\n",
       "\t<tr><td>3/31/2020 14:21:20              </td><td>49                              </td><td>186                             </td><td>28                              </td><td>Si                              </td></tr>\n",
       "\t<tr><td>3/31/2020 14:23:03              </td><td>29                              </td><td>167                             </td><td>26                              </td><td>No                              </td></tr>\n",
       "\t<tr><td>3/31/2020 14:29:17              </td><td>22                              </td><td>170                             </td><td>27                              </td><td>Si                              </td></tr>\n",
       "\t<tr><td>3/31/2020 14:35:09              </td><td>21                              </td><td>175                             </td><td>26.5                            </td><td>Si                              </td></tr>\n",
       "\t<tr><td>3/31/2020 14:37:33              </td><td>33                              </td><td>164                             </td><td>26                              </td><td>Si                              </td></tr>\n",
       "\t<tr><td>3/31/2020 14:47:53              </td><td>29                              </td><td>184                             </td><td>28.5                            </td><td>Si                              </td></tr>\n",
       "\t<tr><td>3/31/2020 14:48:07              </td><td>59                              </td><td>158                             </td><td>25                              </td><td>Si                              </td></tr>\n",
       "\t<tr><td>3/31/2020 14:53:21              </td><td>32                              </td><td>165                             </td><td>27                              </td><td>Si                              </td></tr>\n",
       "\t<tr><td>3/31/2020 14:53:39              </td><td>36                              </td><td>181                             </td><td>28                              </td><td>Si                              </td></tr>\n",
       "\t<tr><td>3/31/2020 14:54:21              </td><td>33                              </td><td>170                             </td><td>27.5                            </td><td>Si                              </td></tr>\n",
       "\t<tr><td>3/31/2020 14:55:58              </td><td>47                              </td><td>180                             </td><td>26.5                            </td><td>Si                              </td></tr>\n",
       "\t<tr><td>3/31/2020 14:58:03              </td><td>43                              </td><td>1.68                            </td><td>26.5                            </td><td>Si                              </td></tr>\n",
       "\t<tr><td>3/31/2020 14:59:25              </td><td>43                              </td><td>1.68                            </td><td>26.5                            </td><td>Si                              </td></tr>\n",
       "\t<tr><td>3/31/2020 15:00:59              </td><td>26                              </td><td>1.7                             </td><td>6.5                             </td><td>No                              </td></tr>\n",
       "\t<tr><td>3/31/2020 15:01:15              </td><td>32                              </td><td>192                             </td><td>30                              </td><td>Si                              </td></tr>\n",
       "\t<tr><td>3/31/2020 15:03:17              </td><td>26                              </td><td>160                             </td><td>23                              </td><td>No                              </td></tr>\n",
       "\t<tr><td>3/31/2020 15:04:33              </td><td>47                              </td><td>187                             </td><td>27.5                            </td><td>Si                              </td></tr>\n",
       "\t<tr><td>3/31/2020 15:07:00              </td><td>50                              </td><td>75                              </td><td>27                              </td><td>Si                              </td></tr>\n",
       "\t<tr><td>3/31/2020 15:07:25              </td><td>50                              </td><td>180                             </td><td>27                              </td><td>No                              </td></tr>\n",
       "\t<tr><td>3/31/2020 15:19:53              </td><td>50                              </td><td>1.72                            </td><td>27                              </td><td>Si                              </td></tr>\n",
       "\t<tr><td>3/31/2020 15:23:00              </td><td>36                              </td><td>168                             </td><td>27.5                            </td><td>No                              </td></tr>\n",
       "\t<tr><td>3/31/2020 15:26:58              </td><td>23                              </td><td>174                             </td><td>27                              </td><td>Si                              </td></tr>\n",
       "\t<tr><td>3/31/2020 15:29:23              </td><td>39                              </td><td>177                             </td><td>27                              </td><td>Si                              </td></tr>\n",
       "\t<tr><td>3/31/2020 18:15:20              </td><td>64                              </td><td>1.69                            </td><td>26                              </td><td>Si                              </td></tr>\n",
       "\t<tr><td>3/31/2020 20:10:38              </td><td>33                              </td><td>160                             </td><td>26.5                            </td><td>Si                              </td></tr>\n",
       "</tbody>\n",
       "</table>\n"
      ],
      "text/latex": [
       "\\begin{tabular}{r|lllll}\n",
       " V1 & V2 & V3 & V4 & V5\\\\\n",
       "\\hline\n",
       "\t Timestamp                        & Edad en años:                    & Estatura en centímetros:         & Talla de calzado en centímetros: & ¿Le gusta la pizza con piña?    \\\\\n",
       "\t 3/31/2020 14:12:05               & 30                               & 190                              & 7                                & No                              \\\\\n",
       "\t 3/31/2020 14:13:21               & 29                               & 170                              & 70                               & No                              \\\\\n",
       "\t 3/31/2020 14:14:09               & 29                               & 166                              & 255                              & Si                              \\\\\n",
       "\t 3/31/2020 14:14:11               & 28                               & 184                              & 28                               & Si                              \\\\\n",
       "\t 3/31/2020 14:14:24               & 30                               & 167                              & 27.5                             & Si                              \\\\\n",
       "\t 3/31/2020 14:14:32               & 29                               & 180                              & 28                               & Si                              \\\\\n",
       "\t 3/31/2020 14:17:18               & 29                               & 175                              & 28.5                             & Si                              \\\\\n",
       "\t 3/31/2020 14:17:35               & 20                               & 160                              & 23                               & No                              \\\\\n",
       "\t 3/31/2020 14:19:37               & 39                               & 155                              & 23                               & Si                              \\\\\n",
       "\t 3/31/2020 14:21:20               & 49                               & 186                              & 28                               & Si                              \\\\\n",
       "\t 3/31/2020 14:23:03               & 29                               & 167                              & 26                               & No                              \\\\\n",
       "\t 3/31/2020 14:29:17               & 22                               & 170                              & 27                               & Si                              \\\\\n",
       "\t 3/31/2020 14:35:09               & 21                               & 175                              & 26.5                             & Si                              \\\\\n",
       "\t 3/31/2020 14:37:33               & 33                               & 164                              & 26                               & Si                              \\\\\n",
       "\t 3/31/2020 14:47:53               & 29                               & 184                              & 28.5                             & Si                              \\\\\n",
       "\t 3/31/2020 14:48:07               & 59                               & 158                              & 25                               & Si                              \\\\\n",
       "\t 3/31/2020 14:53:21               & 32                               & 165                              & 27                               & Si                              \\\\\n",
       "\t 3/31/2020 14:53:39               & 36                               & 181                              & 28                               & Si                              \\\\\n",
       "\t 3/31/2020 14:54:21               & 33                               & 170                              & 27.5                             & Si                              \\\\\n",
       "\t 3/31/2020 14:55:58               & 47                               & 180                              & 26.5                             & Si                              \\\\\n",
       "\t 3/31/2020 14:58:03               & 43                               & 1.68                             & 26.5                             & Si                              \\\\\n",
       "\t 3/31/2020 14:59:25               & 43                               & 1.68                             & 26.5                             & Si                              \\\\\n",
       "\t 3/31/2020 15:00:59               & 26                               & 1.7                              & 6.5                              & No                              \\\\\n",
       "\t 3/31/2020 15:01:15               & 32                               & 192                              & 30                               & Si                              \\\\\n",
       "\t 3/31/2020 15:03:17               & 26                               & 160                              & 23                               & No                              \\\\\n",
       "\t 3/31/2020 15:04:33               & 47                               & 187                              & 27.5                             & Si                              \\\\\n",
       "\t 3/31/2020 15:07:00               & 50                               & 75                               & 27                               & Si                              \\\\\n",
       "\t 3/31/2020 15:07:25               & 50                               & 180                              & 27                               & No                              \\\\\n",
       "\t 3/31/2020 15:19:53               & 50                               & 1.72                             & 27                               & Si                              \\\\\n",
       "\t 3/31/2020 15:23:00               & 36                               & 168                              & 27.5                             & No                              \\\\\n",
       "\t 3/31/2020 15:26:58               & 23                               & 174                              & 27                               & Si                              \\\\\n",
       "\t 3/31/2020 15:29:23               & 39                               & 177                              & 27                               & Si                              \\\\\n",
       "\t 3/31/2020 18:15:20               & 64                               & 1.69                             & 26                               & Si                              \\\\\n",
       "\t 3/31/2020 20:10:38               & 33                               & 160                              & 26.5                             & Si                              \\\\\n",
       "\\end{tabular}\n"
      ],
      "text/markdown": [
       "\n",
       "V1 | V2 | V3 | V4 | V5 | \n",
       "|---|---|---|---|---|---|---|---|---|---|---|---|---|---|---|---|---|---|---|---|---|---|---|---|---|---|---|---|---|---|---|---|---|---|---|\n",
       "| Timestamp                        | Edad en años:                    | Estatura en centímetros:         | Talla de calzado en centímetros: | ¿Le gusta la pizza con piña?     | \n",
       "| 3/31/2020 14:12:05               | 30                               | 190                              | 7                                | No                               | \n",
       "| 3/31/2020 14:13:21               | 29                               | 170                              | 70                               | No                               | \n",
       "| 3/31/2020 14:14:09               | 29                               | 166                              | 255                              | Si                               | \n",
       "| 3/31/2020 14:14:11               | 28                               | 184                              | 28                               | Si                               | \n",
       "| 3/31/2020 14:14:24               | 30                               | 167                              | 27.5                             | Si                               | \n",
       "| 3/31/2020 14:14:32               | 29                               | 180                              | 28                               | Si                               | \n",
       "| 3/31/2020 14:17:18               | 29                               | 175                              | 28.5                             | Si                               | \n",
       "| 3/31/2020 14:17:35               | 20                               | 160                              | 23                               | No                               | \n",
       "| 3/31/2020 14:19:37               | 39                               | 155                              | 23                               | Si                               | \n",
       "| 3/31/2020 14:21:20               | 49                               | 186                              | 28                               | Si                               | \n",
       "| 3/31/2020 14:23:03               | 29                               | 167                              | 26                               | No                               | \n",
       "| 3/31/2020 14:29:17               | 22                               | 170                              | 27                               | Si                               | \n",
       "| 3/31/2020 14:35:09               | 21                               | 175                              | 26.5                             | Si                               | \n",
       "| 3/31/2020 14:37:33               | 33                               | 164                              | 26                               | Si                               | \n",
       "| 3/31/2020 14:47:53               | 29                               | 184                              | 28.5                             | Si                               | \n",
       "| 3/31/2020 14:48:07               | 59                               | 158                              | 25                               | Si                               | \n",
       "| 3/31/2020 14:53:21               | 32                               | 165                              | 27                               | Si                               | \n",
       "| 3/31/2020 14:53:39               | 36                               | 181                              | 28                               | Si                               | \n",
       "| 3/31/2020 14:54:21               | 33                               | 170                              | 27.5                             | Si                               | \n",
       "| 3/31/2020 14:55:58               | 47                               | 180                              | 26.5                             | Si                               | \n",
       "| 3/31/2020 14:58:03               | 43                               | 1.68                             | 26.5                             | Si                               | \n",
       "| 3/31/2020 14:59:25               | 43                               | 1.68                             | 26.5                             | Si                               | \n",
       "| 3/31/2020 15:00:59               | 26                               | 1.7                              | 6.5                              | No                               | \n",
       "| 3/31/2020 15:01:15               | 32                               | 192                              | 30                               | Si                               | \n",
       "| 3/31/2020 15:03:17               | 26                               | 160                              | 23                               | No                               | \n",
       "| 3/31/2020 15:04:33               | 47                               | 187                              | 27.5                             | Si                               | \n",
       "| 3/31/2020 15:07:00               | 50                               | 75                               | 27                               | Si                               | \n",
       "| 3/31/2020 15:07:25               | 50                               | 180                              | 27                               | No                               | \n",
       "| 3/31/2020 15:19:53               | 50                               | 1.72                             | 27                               | Si                               | \n",
       "| 3/31/2020 15:23:00               | 36                               | 168                              | 27.5                             | No                               | \n",
       "| 3/31/2020 15:26:58               | 23                               | 174                              | 27                               | Si                               | \n",
       "| 3/31/2020 15:29:23               | 39                               | 177                              | 27                               | Si                               | \n",
       "| 3/31/2020 18:15:20               | 64                               | 1.69                             | 26                               | Si                               | \n",
       "| 3/31/2020 20:10:38               | 33                               | 160                              | 26.5                             | Si                               | \n",
       "\n",
       "\n"
      ],
      "text/plain": [
       "   V1                 V2            V3                      \n",
       "1  Timestamp          Edad en años: Estatura en centímetros:\n",
       "2  3/31/2020 14:12:05 30            190                     \n",
       "3  3/31/2020 14:13:21 29            170                     \n",
       "4  3/31/2020 14:14:09 29            166                     \n",
       "5  3/31/2020 14:14:11 28            184                     \n",
       "6  3/31/2020 14:14:24 30            167                     \n",
       "7  3/31/2020 14:14:32 29            180                     \n",
       "8  3/31/2020 14:17:18 29            175                     \n",
       "9  3/31/2020 14:17:35 20            160                     \n",
       "10 3/31/2020 14:19:37 39            155                     \n",
       "11 3/31/2020 14:21:20 49            186                     \n",
       "12 3/31/2020 14:23:03 29            167                     \n",
       "13 3/31/2020 14:29:17 22            170                     \n",
       "14 3/31/2020 14:35:09 21            175                     \n",
       "15 3/31/2020 14:37:33 33            164                     \n",
       "16 3/31/2020 14:47:53 29            184                     \n",
       "17 3/31/2020 14:48:07 59            158                     \n",
       "18 3/31/2020 14:53:21 32            165                     \n",
       "19 3/31/2020 14:53:39 36            181                     \n",
       "20 3/31/2020 14:54:21 33            170                     \n",
       "21 3/31/2020 14:55:58 47            180                     \n",
       "22 3/31/2020 14:58:03 43            1.68                    \n",
       "23 3/31/2020 14:59:25 43            1.68                    \n",
       "24 3/31/2020 15:00:59 26            1.7                     \n",
       "25 3/31/2020 15:01:15 32            192                     \n",
       "26 3/31/2020 15:03:17 26            160                     \n",
       "27 3/31/2020 15:04:33 47            187                     \n",
       "28 3/31/2020 15:07:00 50            75                      \n",
       "29 3/31/2020 15:07:25 50            180                     \n",
       "30 3/31/2020 15:19:53 50            1.72                    \n",
       "31 3/31/2020 15:23:00 36            168                     \n",
       "32 3/31/2020 15:26:58 23            174                     \n",
       "33 3/31/2020 15:29:23 39            177                     \n",
       "34 3/31/2020 18:15:20 64            1.69                    \n",
       "35 3/31/2020 20:10:38 33            160                     \n",
       "   V4                               V5                          \n",
       "1  Talla de calzado en centímetros: ¿Le gusta la pizza con piña?\n",
       "2  7                                No                          \n",
       "3  70                               No                          \n",
       "4  255                              Si                          \n",
       "5  28                               Si                          \n",
       "6  27.5                             Si                          \n",
       "7  28                               Si                          \n",
       "8  28.5                             Si                          \n",
       "9  23                               No                          \n",
       "10 23                               Si                          \n",
       "11 28                               Si                          \n",
       "12 26                               No                          \n",
       "13 27                               Si                          \n",
       "14 26.5                             Si                          \n",
       "15 26                               Si                          \n",
       "16 28.5                             Si                          \n",
       "17 25                               Si                          \n",
       "18 27                               Si                          \n",
       "19 28                               Si                          \n",
       "20 27.5                             Si                          \n",
       "21 26.5                             Si                          \n",
       "22 26.5                             Si                          \n",
       "23 26.5                             Si                          \n",
       "24 6.5                              No                          \n",
       "25 30                               Si                          \n",
       "26 23                               No                          \n",
       "27 27.5                             Si                          \n",
       "28 27                               Si                          \n",
       "29 27                               No                          \n",
       "30 27                               Si                          \n",
       "31 27.5                             No                          \n",
       "32 27                               Si                          \n",
       "33 27                               Si                          \n",
       "34 26                               Si                          \n",
       "35 26.5                             Si                          "
      ]
     },
     "metadata": {},
     "output_type": "display_data"
    }
   ],
   "source": [
    "cuest"
   ]
  },
  {
   "cell_type": "markdown",
   "metadata": {},
   "source": [
    "\n",
    "R nos arrojó la tabla completa lo cual puede ser un problema cuando se trabaja con cientos o miles de muestras. Con esto en mente, podemos usar la función *head()* que nos regresa solo las primeras filas:"
   ]
  },
  {
   "cell_type": "code",
   "execution_count": 11,
   "metadata": {},
   "outputs": [
    {
     "data": {
      "text/html": [
       "<table>\n",
       "<thead><tr><th scope=col>V1</th><th scope=col>V2</th><th scope=col>V3</th><th scope=col>V4</th><th scope=col>V5</th></tr></thead>\n",
       "<tbody>\n",
       "\t<tr><td>Timestamp                       </td><td>Edad en años:                   </td><td>Estatura en centímetros:        </td><td>Talla de calzado en centímetros:</td><td>¿Le gusta la pizza con piña?    </td></tr>\n",
       "\t<tr><td>3/31/2020 14:12:05              </td><td>30                              </td><td>190                             </td><td>7                               </td><td>No                              </td></tr>\n",
       "\t<tr><td>3/31/2020 14:13:21              </td><td>29                              </td><td>170                             </td><td>70                              </td><td>No                              </td></tr>\n",
       "\t<tr><td>3/31/2020 14:14:09              </td><td>29                              </td><td>166                             </td><td>255                             </td><td>Si                              </td></tr>\n",
       "\t<tr><td>3/31/2020 14:14:11              </td><td>28                              </td><td>184                             </td><td>28                              </td><td>Si                              </td></tr>\n",
       "\t<tr><td>3/31/2020 14:14:24              </td><td>30                              </td><td>167                             </td><td>27.5                            </td><td>Si                              </td></tr>\n",
       "</tbody>\n",
       "</table>\n"
      ],
      "text/latex": [
       "\\begin{tabular}{r|lllll}\n",
       " V1 & V2 & V3 & V4 & V5\\\\\n",
       "\\hline\n",
       "\t Timestamp                        & Edad en años:                    & Estatura en centímetros:         & Talla de calzado en centímetros: & ¿Le gusta la pizza con piña?    \\\\\n",
       "\t 3/31/2020 14:12:05               & 30                               & 190                              & 7                                & No                              \\\\\n",
       "\t 3/31/2020 14:13:21               & 29                               & 170                              & 70                               & No                              \\\\\n",
       "\t 3/31/2020 14:14:09               & 29                               & 166                              & 255                              & Si                              \\\\\n",
       "\t 3/31/2020 14:14:11               & 28                               & 184                              & 28                               & Si                              \\\\\n",
       "\t 3/31/2020 14:14:24               & 30                               & 167                              & 27.5                             & Si                              \\\\\n",
       "\\end{tabular}\n"
      ],
      "text/markdown": [
       "\n",
       "V1 | V2 | V3 | V4 | V5 | \n",
       "|---|---|---|---|---|---|\n",
       "| Timestamp                        | Edad en años:                    | Estatura en centímetros:         | Talla de calzado en centímetros: | ¿Le gusta la pizza con piña?     | \n",
       "| 3/31/2020 14:12:05               | 30                               | 190                              | 7                                | No                               | \n",
       "| 3/31/2020 14:13:21               | 29                               | 170                              | 70                               | No                               | \n",
       "| 3/31/2020 14:14:09               | 29                               | 166                              | 255                              | Si                               | \n",
       "| 3/31/2020 14:14:11               | 28                               | 184                              | 28                               | Si                               | \n",
       "| 3/31/2020 14:14:24               | 30                               | 167                              | 27.5                             | Si                               | \n",
       "\n",
       "\n"
      ],
      "text/plain": [
       "  V1                 V2            V3                      \n",
       "1 Timestamp          Edad en años: Estatura en centímetros:\n",
       "2 3/31/2020 14:12:05 30            190                     \n",
       "3 3/31/2020 14:13:21 29            170                     \n",
       "4 3/31/2020 14:14:09 29            166                     \n",
       "5 3/31/2020 14:14:11 28            184                     \n",
       "6 3/31/2020 14:14:24 30            167                     \n",
       "  V4                               V5                          \n",
       "1 Talla de calzado en centímetros: ¿Le gusta la pizza con piña?\n",
       "2 7                                No                          \n",
       "3 70                               No                          \n",
       "4 255                              Si                          \n",
       "5 28                               Si                          \n",
       "6 27.5                             Si                          "
      ]
     },
     "metadata": {},
     "output_type": "display_data"
    }
   ],
   "source": [
    "head(cuest)"
   ]
  },
  {
   "cell_type": "markdown",
   "metadata": {},
   "source": [
    "También podemos usar la ya vieja confiable función *dim()*:"
   ]
  },
  {
   "cell_type": "code",
   "execution_count": 12,
   "metadata": {},
   "outputs": [
    {
     "data": {
      "text/html": [
       "<ol class=list-inline>\n",
       "\t<li>35</li>\n",
       "\t<li>5</li>\n",
       "</ol>\n"
      ],
      "text/latex": [
       "\\begin{enumerate*}\n",
       "\\item 35\n",
       "\\item 5\n",
       "\\end{enumerate*}\n"
      ],
      "text/markdown": [
       "1. 35\n",
       "2. 5\n",
       "\n",
       "\n"
      ],
      "text/plain": [
       "[1] 35  5"
      ]
     },
     "metadata": {},
     "output_type": "display_data"
    }
   ],
   "source": [
    "dim(cuest)"
   ]
  },
  {
   "cell_type": "markdown",
   "metadata": {},
   "source": [
    "Otra función de resumen (mi favorita) es *str()* que nos da la estructura del data frame:"
   ]
  },
  {
   "cell_type": "code",
   "execution_count": 13,
   "metadata": {},
   "outputs": [
    {
     "name": "stdout",
     "output_type": "stream",
     "text": [
      "'data.frame':\t35 obs. of  5 variables:\n",
      " $ V1: Factor w/ 35 levels \"3/31/2020 14:12:05\",..: 35 1 2 3 4 5 6 7 8 9 ...\n",
      " $ V2: Factor w/ 19 levels \"20\",\"21\",\"22\",..: 19 8 7 7 6 8 7 7 1 12 ...\n",
      " $ V3: Factor w/ 25 levels \"1.68\",\"1.69\",..: 25 22 13 10 19 11 17 15 7 5 ...\n",
      " $ V4: Factor w/ 14 levels \"23\",\"25\",\"255\",..: 14 12 13 3 8 7 8 9 1 1 ...\n",
      " $ V5: Factor w/ 3 levels \"¿Le gusta la pizza con piña?\",..: 1 2 2 3 3 3 3 3 2 3 ...\n"
     ]
    }
   ],
   "source": [
    "str(cuest)"
   ]
  },
  {
   "cell_type": "markdown",
   "metadata": {},
   "source": [
    "Aquí R nos dice que tenemos una tabla con 35 observaciones y 5 variables, además dice que las 5 variables son de tipo *Factor*, que se refiere a variables categóricas. Asimismo, R nombró cada variable arbitrariamente con una \"V\" y un número. Sin embargo, en la tabla nosotros queríamos solo 4 variables de las cuales 3 eran núméricas y una era categórica. ¿Qué sucedió?\n",
    "\n",
    "Como se mencionó en el tutorial anterior, R es un lenguaje de programación y por consiguiente debemos ser completamente explícitos en lo que le estamos pidiendo. R no tuvo forma de saber que la primera fila del archivo de texto correspondía a los nombres de las columnas, así que al ver letras, decidió que las columnas correspondían a factores y no a caracteres numéricos.\n",
    "\n",
    "Vamos a volver a pedirle a R que lea la tabla pero en esta ocasión vamos a decirle que la primera fila correponde a los nombres de las columnas. Esto lo vamos a lograr agregando el argumento *header* que funciona con datos lógicos (booleanos) que son TRUE (o simplemente T) o FALSE (o F):"
   ]
  },
  {
   "cell_type": "code",
   "execution_count": 14,
   "metadata": {},
   "outputs": [],
   "source": [
    "cuest <- read.table('cuestionario.csv', sep=',', header=T)"
   ]
  },
  {
   "cell_type": "code",
   "execution_count": 15,
   "metadata": {},
   "outputs": [
    {
     "name": "stdout",
     "output_type": "stream",
     "text": [
      "'data.frame':\t34 obs. of  5 variables:\n",
      " $ Timestamp                       : Factor w/ 34 levels \"3/31/2020 14:12:05\",..: 1 2 3 4 5 6 7 8 9 10 ...\n",
      " $ Edad.en.años.                   : int  30 29 29 28 30 29 29 20 39 49 ...\n",
      " $ Estatura.en.centímetros.        : num  190 170 166 184 167 180 175 160 155 186 ...\n",
      " $ Talla.de.calzado.en.centímetros.: num  7 70 255 28 27.5 28 28.5 23 23 28 ...\n",
      " $ X.Le.gusta.la.pizza.con.piña.   : Factor w/ 2 levels \"No\",\"Si\": 1 1 2 2 2 2 2 1 2 2 ...\n"
     ]
    }
   ],
   "source": [
    "str(cuest)"
   ]
  },
  {
   "cell_type": "markdown",
   "metadata": {},
   "source": [
    "Como pueden ver, R nombró las columnas o variables del data frame según el encabezado de cada columna y ya reconoció la estatura y la talla como datos numéricos. Noten que en la edad dice *int* que se refiere a *integer* que es la forma de denominarle a los números enteros. Generalmente las computadoras ven a los enteros y a los decimales como cosas distintas porque trabajar con enteros consume menos memoria que trabajar con decimales.\n",
    "\n",
    "## Indexación\n",
    "\n",
    "En mi tabla de datos sigue presente una variable que no me interesaba que se llama *Timestamp* que es un dato que me dió google forms cuando recopiló los datos del cuestionario que le pasé a mis amigos. Para ver los contenidos de esta columna tengo que indexarla, es decir buscarla dentro de mis datos usando corchetes que son los caracteres \"[\" y \"]\".\n",
    "\n",
    "Para indexar matrices o data frames hay que escribir el número de fila, una coma y luego el número de columna. Si quiero todas las filas, no pongo nada en el primer argumento y si de lo contrario quiero todas las columnas dejo vacío el segundo argumento. En este caso quiero todas las filas de la primer columna:"
   ]
  },
  {
   "cell_type": "code",
   "execution_count": 16,
   "metadata": {},
   "outputs": [
    {
     "data": {
      "text/html": [
       "<ol class=list-inline>\n",
       "\t<li>3/31/2020 14:12:05</li>\n",
       "\t<li>3/31/2020 14:13:21</li>\n",
       "\t<li>3/31/2020 14:14:09</li>\n",
       "\t<li>3/31/2020 14:14:11</li>\n",
       "\t<li>3/31/2020 14:14:24</li>\n",
       "\t<li>3/31/2020 14:14:32</li>\n",
       "\t<li>3/31/2020 14:17:18</li>\n",
       "\t<li>3/31/2020 14:17:35</li>\n",
       "\t<li>3/31/2020 14:19:37</li>\n",
       "\t<li>3/31/2020 14:21:20</li>\n",
       "\t<li>3/31/2020 14:23:03</li>\n",
       "\t<li>3/31/2020 14:29:17</li>\n",
       "\t<li>3/31/2020 14:35:09</li>\n",
       "\t<li>3/31/2020 14:37:33</li>\n",
       "\t<li>3/31/2020 14:47:53</li>\n",
       "\t<li>3/31/2020 14:48:07</li>\n",
       "\t<li>3/31/2020 14:53:21</li>\n",
       "\t<li>3/31/2020 14:53:39</li>\n",
       "\t<li>3/31/2020 14:54:21</li>\n",
       "\t<li>3/31/2020 14:55:58</li>\n",
       "\t<li>3/31/2020 14:58:03</li>\n",
       "\t<li>3/31/2020 14:59:25</li>\n",
       "\t<li>3/31/2020 15:00:59</li>\n",
       "\t<li>3/31/2020 15:01:15</li>\n",
       "\t<li>3/31/2020 15:03:17</li>\n",
       "\t<li>3/31/2020 15:04:33</li>\n",
       "\t<li>3/31/2020 15:07:00</li>\n",
       "\t<li>3/31/2020 15:07:25</li>\n",
       "\t<li>3/31/2020 15:19:53</li>\n",
       "\t<li>3/31/2020 15:23:00</li>\n",
       "\t<li>3/31/2020 15:26:58</li>\n",
       "\t<li>3/31/2020 15:29:23</li>\n",
       "\t<li>3/31/2020 18:15:20</li>\n",
       "\t<li>3/31/2020 20:10:38</li>\n",
       "</ol>\n",
       "\n",
       "<details>\n",
       "\t<summary style=display:list-item;cursor:pointer>\n",
       "\t\t<strong>Levels</strong>:\n",
       "\t</summary>\n",
       "\t<ol class=list-inline>\n",
       "\t\t<li>'3/31/2020 14:12:05'</li>\n",
       "\t\t<li>'3/31/2020 14:13:21'</li>\n",
       "\t\t<li>'3/31/2020 14:14:09'</li>\n",
       "\t\t<li>'3/31/2020 14:14:11'</li>\n",
       "\t\t<li>'3/31/2020 14:14:24'</li>\n",
       "\t\t<li>'3/31/2020 14:14:32'</li>\n",
       "\t\t<li>'3/31/2020 14:17:18'</li>\n",
       "\t\t<li>'3/31/2020 14:17:35'</li>\n",
       "\t\t<li>'3/31/2020 14:19:37'</li>\n",
       "\t\t<li>'3/31/2020 14:21:20'</li>\n",
       "\t\t<li>'3/31/2020 14:23:03'</li>\n",
       "\t\t<li>'3/31/2020 14:29:17'</li>\n",
       "\t\t<li>'3/31/2020 14:35:09'</li>\n",
       "\t\t<li>'3/31/2020 14:37:33'</li>\n",
       "\t\t<li>'3/31/2020 14:47:53'</li>\n",
       "\t\t<li>'3/31/2020 14:48:07'</li>\n",
       "\t\t<li>'3/31/2020 14:53:21'</li>\n",
       "\t\t<li>'3/31/2020 14:53:39'</li>\n",
       "\t\t<li>'3/31/2020 14:54:21'</li>\n",
       "\t\t<li>'3/31/2020 14:55:58'</li>\n",
       "\t\t<li>'3/31/2020 14:58:03'</li>\n",
       "\t\t<li>'3/31/2020 14:59:25'</li>\n",
       "\t\t<li>'3/31/2020 15:00:59'</li>\n",
       "\t\t<li>'3/31/2020 15:01:15'</li>\n",
       "\t\t<li>'3/31/2020 15:03:17'</li>\n",
       "\t\t<li>'3/31/2020 15:04:33'</li>\n",
       "\t\t<li>'3/31/2020 15:07:00'</li>\n",
       "\t\t<li>'3/31/2020 15:07:25'</li>\n",
       "\t\t<li>'3/31/2020 15:19:53'</li>\n",
       "\t\t<li>'3/31/2020 15:23:00'</li>\n",
       "\t\t<li>'3/31/2020 15:26:58'</li>\n",
       "\t\t<li>'3/31/2020 15:29:23'</li>\n",
       "\t\t<li>'3/31/2020 18:15:20'</li>\n",
       "\t\t<li>'3/31/2020 20:10:38'</li>\n",
       "\t</ol>\n",
       "</details>"
      ],
      "text/latex": [
       "\\begin{enumerate*}\n",
       "\\item 3/31/2020 14:12:05\n",
       "\\item 3/31/2020 14:13:21\n",
       "\\item 3/31/2020 14:14:09\n",
       "\\item 3/31/2020 14:14:11\n",
       "\\item 3/31/2020 14:14:24\n",
       "\\item 3/31/2020 14:14:32\n",
       "\\item 3/31/2020 14:17:18\n",
       "\\item 3/31/2020 14:17:35\n",
       "\\item 3/31/2020 14:19:37\n",
       "\\item 3/31/2020 14:21:20\n",
       "\\item 3/31/2020 14:23:03\n",
       "\\item 3/31/2020 14:29:17\n",
       "\\item 3/31/2020 14:35:09\n",
       "\\item 3/31/2020 14:37:33\n",
       "\\item 3/31/2020 14:47:53\n",
       "\\item 3/31/2020 14:48:07\n",
       "\\item 3/31/2020 14:53:21\n",
       "\\item 3/31/2020 14:53:39\n",
       "\\item 3/31/2020 14:54:21\n",
       "\\item 3/31/2020 14:55:58\n",
       "\\item 3/31/2020 14:58:03\n",
       "\\item 3/31/2020 14:59:25\n",
       "\\item 3/31/2020 15:00:59\n",
       "\\item 3/31/2020 15:01:15\n",
       "\\item 3/31/2020 15:03:17\n",
       "\\item 3/31/2020 15:04:33\n",
       "\\item 3/31/2020 15:07:00\n",
       "\\item 3/31/2020 15:07:25\n",
       "\\item 3/31/2020 15:19:53\n",
       "\\item 3/31/2020 15:23:00\n",
       "\\item 3/31/2020 15:26:58\n",
       "\\item 3/31/2020 15:29:23\n",
       "\\item 3/31/2020 18:15:20\n",
       "\\item 3/31/2020 20:10:38\n",
       "\\end{enumerate*}\n",
       "\n",
       "\\emph{Levels}: \\begin{enumerate*}\n",
       "\\item '3/31/2020 14:12:05'\n",
       "\\item '3/31/2020 14:13:21'\n",
       "\\item '3/31/2020 14:14:09'\n",
       "\\item '3/31/2020 14:14:11'\n",
       "\\item '3/31/2020 14:14:24'\n",
       "\\item '3/31/2020 14:14:32'\n",
       "\\item '3/31/2020 14:17:18'\n",
       "\\item '3/31/2020 14:17:35'\n",
       "\\item '3/31/2020 14:19:37'\n",
       "\\item '3/31/2020 14:21:20'\n",
       "\\item '3/31/2020 14:23:03'\n",
       "\\item '3/31/2020 14:29:17'\n",
       "\\item '3/31/2020 14:35:09'\n",
       "\\item '3/31/2020 14:37:33'\n",
       "\\item '3/31/2020 14:47:53'\n",
       "\\item '3/31/2020 14:48:07'\n",
       "\\item '3/31/2020 14:53:21'\n",
       "\\item '3/31/2020 14:53:39'\n",
       "\\item '3/31/2020 14:54:21'\n",
       "\\item '3/31/2020 14:55:58'\n",
       "\\item '3/31/2020 14:58:03'\n",
       "\\item '3/31/2020 14:59:25'\n",
       "\\item '3/31/2020 15:00:59'\n",
       "\\item '3/31/2020 15:01:15'\n",
       "\\item '3/31/2020 15:03:17'\n",
       "\\item '3/31/2020 15:04:33'\n",
       "\\item '3/31/2020 15:07:00'\n",
       "\\item '3/31/2020 15:07:25'\n",
       "\\item '3/31/2020 15:19:53'\n",
       "\\item '3/31/2020 15:23:00'\n",
       "\\item '3/31/2020 15:26:58'\n",
       "\\item '3/31/2020 15:29:23'\n",
       "\\item '3/31/2020 18:15:20'\n",
       "\\item '3/31/2020 20:10:38'\n",
       "\\end{enumerate*}\n"
      ],
      "text/markdown": [
       "1. 3/31/2020 14:12:05\n",
       "2. 3/31/2020 14:13:21\n",
       "3. 3/31/2020 14:14:09\n",
       "4. 3/31/2020 14:14:11\n",
       "5. 3/31/2020 14:14:24\n",
       "6. 3/31/2020 14:14:32\n",
       "7. 3/31/2020 14:17:18\n",
       "8. 3/31/2020 14:17:35\n",
       "9. 3/31/2020 14:19:37\n",
       "10. 3/31/2020 14:21:20\n",
       "11. 3/31/2020 14:23:03\n",
       "12. 3/31/2020 14:29:17\n",
       "13. 3/31/2020 14:35:09\n",
       "14. 3/31/2020 14:37:33\n",
       "15. 3/31/2020 14:47:53\n",
       "16. 3/31/2020 14:48:07\n",
       "17. 3/31/2020 14:53:21\n",
       "18. 3/31/2020 14:53:39\n",
       "19. 3/31/2020 14:54:21\n",
       "20. 3/31/2020 14:55:58\n",
       "21. 3/31/2020 14:58:03\n",
       "22. 3/31/2020 14:59:25\n",
       "23. 3/31/2020 15:00:59\n",
       "24. 3/31/2020 15:01:15\n",
       "25. 3/31/2020 15:03:17\n",
       "26. 3/31/2020 15:04:33\n",
       "27. 3/31/2020 15:07:00\n",
       "28. 3/31/2020 15:07:25\n",
       "29. 3/31/2020 15:19:53\n",
       "30. 3/31/2020 15:23:00\n",
       "31. 3/31/2020 15:26:58\n",
       "32. 3/31/2020 15:29:23\n",
       "33. 3/31/2020 18:15:20\n",
       "34. 3/31/2020 20:10:38\n",
       "\n",
       "\n",
       "\n",
       "**Levels**: 1. '3/31/2020 14:12:05'\n",
       "2. '3/31/2020 14:13:21'\n",
       "3. '3/31/2020 14:14:09'\n",
       "4. '3/31/2020 14:14:11'\n",
       "5. '3/31/2020 14:14:24'\n",
       "6. '3/31/2020 14:14:32'\n",
       "7. '3/31/2020 14:17:18'\n",
       "8. '3/31/2020 14:17:35'\n",
       "9. '3/31/2020 14:19:37'\n",
       "10. '3/31/2020 14:21:20'\n",
       "11. '3/31/2020 14:23:03'\n",
       "12. '3/31/2020 14:29:17'\n",
       "13. '3/31/2020 14:35:09'\n",
       "14. '3/31/2020 14:37:33'\n",
       "15. '3/31/2020 14:47:53'\n",
       "16. '3/31/2020 14:48:07'\n",
       "17. '3/31/2020 14:53:21'\n",
       "18. '3/31/2020 14:53:39'\n",
       "19. '3/31/2020 14:54:21'\n",
       "20. '3/31/2020 14:55:58'\n",
       "21. '3/31/2020 14:58:03'\n",
       "22. '3/31/2020 14:59:25'\n",
       "23. '3/31/2020 15:00:59'\n",
       "24. '3/31/2020 15:01:15'\n",
       "25. '3/31/2020 15:03:17'\n",
       "26. '3/31/2020 15:04:33'\n",
       "27. '3/31/2020 15:07:00'\n",
       "28. '3/31/2020 15:07:25'\n",
       "29. '3/31/2020 15:19:53'\n",
       "30. '3/31/2020 15:23:00'\n",
       "31. '3/31/2020 15:26:58'\n",
       "32. '3/31/2020 15:29:23'\n",
       "33. '3/31/2020 18:15:20'\n",
       "34. '3/31/2020 20:10:38'\n",
       "\n",
       "\n"
      ],
      "text/plain": [
       " [1] 3/31/2020 14:12:05 3/31/2020 14:13:21 3/31/2020 14:14:09 3/31/2020 14:14:11\n",
       " [5] 3/31/2020 14:14:24 3/31/2020 14:14:32 3/31/2020 14:17:18 3/31/2020 14:17:35\n",
       " [9] 3/31/2020 14:19:37 3/31/2020 14:21:20 3/31/2020 14:23:03 3/31/2020 14:29:17\n",
       "[13] 3/31/2020 14:35:09 3/31/2020 14:37:33 3/31/2020 14:47:53 3/31/2020 14:48:07\n",
       "[17] 3/31/2020 14:53:21 3/31/2020 14:53:39 3/31/2020 14:54:21 3/31/2020 14:55:58\n",
       "[21] 3/31/2020 14:58:03 3/31/2020 14:59:25 3/31/2020 15:00:59 3/31/2020 15:01:15\n",
       "[25] 3/31/2020 15:03:17 3/31/2020 15:04:33 3/31/2020 15:07:00 3/31/2020 15:07:25\n",
       "[29] 3/31/2020 15:19:53 3/31/2020 15:23:00 3/31/2020 15:26:58 3/31/2020 15:29:23\n",
       "[33] 3/31/2020 18:15:20 3/31/2020 20:10:38\n",
       "34 Levels: 3/31/2020 14:12:05 3/31/2020 14:13:21 ... 3/31/2020 20:10:38"
      ]
     },
     "metadata": {},
     "output_type": "display_data"
    }
   ],
   "source": [
    "cuest[,1]"
   ]
  },
  {
   "cell_type": "markdown",
   "metadata": {},
   "source": [
    "Puedo ver el contenido de cada variable usando el operador *$* lo cual es más intuitivo que indexar pero solo funciona con data frames:"
   ]
  },
  {
   "cell_type": "code",
   "execution_count": 17,
   "metadata": {},
   "outputs": [
    {
     "data": {
      "text/html": [
       "<ol class=list-inline>\n",
       "\t<li>3/31/2020 14:12:05</li>\n",
       "\t<li>3/31/2020 14:13:21</li>\n",
       "\t<li>3/31/2020 14:14:09</li>\n",
       "\t<li>3/31/2020 14:14:11</li>\n",
       "\t<li>3/31/2020 14:14:24</li>\n",
       "\t<li>3/31/2020 14:14:32</li>\n",
       "\t<li>3/31/2020 14:17:18</li>\n",
       "\t<li>3/31/2020 14:17:35</li>\n",
       "\t<li>3/31/2020 14:19:37</li>\n",
       "\t<li>3/31/2020 14:21:20</li>\n",
       "\t<li>3/31/2020 14:23:03</li>\n",
       "\t<li>3/31/2020 14:29:17</li>\n",
       "\t<li>3/31/2020 14:35:09</li>\n",
       "\t<li>3/31/2020 14:37:33</li>\n",
       "\t<li>3/31/2020 14:47:53</li>\n",
       "\t<li>3/31/2020 14:48:07</li>\n",
       "\t<li>3/31/2020 14:53:21</li>\n",
       "\t<li>3/31/2020 14:53:39</li>\n",
       "\t<li>3/31/2020 14:54:21</li>\n",
       "\t<li>3/31/2020 14:55:58</li>\n",
       "\t<li>3/31/2020 14:58:03</li>\n",
       "\t<li>3/31/2020 14:59:25</li>\n",
       "\t<li>3/31/2020 15:00:59</li>\n",
       "\t<li>3/31/2020 15:01:15</li>\n",
       "\t<li>3/31/2020 15:03:17</li>\n",
       "\t<li>3/31/2020 15:04:33</li>\n",
       "\t<li>3/31/2020 15:07:00</li>\n",
       "\t<li>3/31/2020 15:07:25</li>\n",
       "\t<li>3/31/2020 15:19:53</li>\n",
       "\t<li>3/31/2020 15:23:00</li>\n",
       "\t<li>3/31/2020 15:26:58</li>\n",
       "\t<li>3/31/2020 15:29:23</li>\n",
       "\t<li>3/31/2020 18:15:20</li>\n",
       "\t<li>3/31/2020 20:10:38</li>\n",
       "</ol>\n",
       "\n",
       "<details>\n",
       "\t<summary style=display:list-item;cursor:pointer>\n",
       "\t\t<strong>Levels</strong>:\n",
       "\t</summary>\n",
       "\t<ol class=list-inline>\n",
       "\t\t<li>'3/31/2020 14:12:05'</li>\n",
       "\t\t<li>'3/31/2020 14:13:21'</li>\n",
       "\t\t<li>'3/31/2020 14:14:09'</li>\n",
       "\t\t<li>'3/31/2020 14:14:11'</li>\n",
       "\t\t<li>'3/31/2020 14:14:24'</li>\n",
       "\t\t<li>'3/31/2020 14:14:32'</li>\n",
       "\t\t<li>'3/31/2020 14:17:18'</li>\n",
       "\t\t<li>'3/31/2020 14:17:35'</li>\n",
       "\t\t<li>'3/31/2020 14:19:37'</li>\n",
       "\t\t<li>'3/31/2020 14:21:20'</li>\n",
       "\t\t<li>'3/31/2020 14:23:03'</li>\n",
       "\t\t<li>'3/31/2020 14:29:17'</li>\n",
       "\t\t<li>'3/31/2020 14:35:09'</li>\n",
       "\t\t<li>'3/31/2020 14:37:33'</li>\n",
       "\t\t<li>'3/31/2020 14:47:53'</li>\n",
       "\t\t<li>'3/31/2020 14:48:07'</li>\n",
       "\t\t<li>'3/31/2020 14:53:21'</li>\n",
       "\t\t<li>'3/31/2020 14:53:39'</li>\n",
       "\t\t<li>'3/31/2020 14:54:21'</li>\n",
       "\t\t<li>'3/31/2020 14:55:58'</li>\n",
       "\t\t<li>'3/31/2020 14:58:03'</li>\n",
       "\t\t<li>'3/31/2020 14:59:25'</li>\n",
       "\t\t<li>'3/31/2020 15:00:59'</li>\n",
       "\t\t<li>'3/31/2020 15:01:15'</li>\n",
       "\t\t<li>'3/31/2020 15:03:17'</li>\n",
       "\t\t<li>'3/31/2020 15:04:33'</li>\n",
       "\t\t<li>'3/31/2020 15:07:00'</li>\n",
       "\t\t<li>'3/31/2020 15:07:25'</li>\n",
       "\t\t<li>'3/31/2020 15:19:53'</li>\n",
       "\t\t<li>'3/31/2020 15:23:00'</li>\n",
       "\t\t<li>'3/31/2020 15:26:58'</li>\n",
       "\t\t<li>'3/31/2020 15:29:23'</li>\n",
       "\t\t<li>'3/31/2020 18:15:20'</li>\n",
       "\t\t<li>'3/31/2020 20:10:38'</li>\n",
       "\t</ol>\n",
       "</details>"
      ],
      "text/latex": [
       "\\begin{enumerate*}\n",
       "\\item 3/31/2020 14:12:05\n",
       "\\item 3/31/2020 14:13:21\n",
       "\\item 3/31/2020 14:14:09\n",
       "\\item 3/31/2020 14:14:11\n",
       "\\item 3/31/2020 14:14:24\n",
       "\\item 3/31/2020 14:14:32\n",
       "\\item 3/31/2020 14:17:18\n",
       "\\item 3/31/2020 14:17:35\n",
       "\\item 3/31/2020 14:19:37\n",
       "\\item 3/31/2020 14:21:20\n",
       "\\item 3/31/2020 14:23:03\n",
       "\\item 3/31/2020 14:29:17\n",
       "\\item 3/31/2020 14:35:09\n",
       "\\item 3/31/2020 14:37:33\n",
       "\\item 3/31/2020 14:47:53\n",
       "\\item 3/31/2020 14:48:07\n",
       "\\item 3/31/2020 14:53:21\n",
       "\\item 3/31/2020 14:53:39\n",
       "\\item 3/31/2020 14:54:21\n",
       "\\item 3/31/2020 14:55:58\n",
       "\\item 3/31/2020 14:58:03\n",
       "\\item 3/31/2020 14:59:25\n",
       "\\item 3/31/2020 15:00:59\n",
       "\\item 3/31/2020 15:01:15\n",
       "\\item 3/31/2020 15:03:17\n",
       "\\item 3/31/2020 15:04:33\n",
       "\\item 3/31/2020 15:07:00\n",
       "\\item 3/31/2020 15:07:25\n",
       "\\item 3/31/2020 15:19:53\n",
       "\\item 3/31/2020 15:23:00\n",
       "\\item 3/31/2020 15:26:58\n",
       "\\item 3/31/2020 15:29:23\n",
       "\\item 3/31/2020 18:15:20\n",
       "\\item 3/31/2020 20:10:38\n",
       "\\end{enumerate*}\n",
       "\n",
       "\\emph{Levels}: \\begin{enumerate*}\n",
       "\\item '3/31/2020 14:12:05'\n",
       "\\item '3/31/2020 14:13:21'\n",
       "\\item '3/31/2020 14:14:09'\n",
       "\\item '3/31/2020 14:14:11'\n",
       "\\item '3/31/2020 14:14:24'\n",
       "\\item '3/31/2020 14:14:32'\n",
       "\\item '3/31/2020 14:17:18'\n",
       "\\item '3/31/2020 14:17:35'\n",
       "\\item '3/31/2020 14:19:37'\n",
       "\\item '3/31/2020 14:21:20'\n",
       "\\item '3/31/2020 14:23:03'\n",
       "\\item '3/31/2020 14:29:17'\n",
       "\\item '3/31/2020 14:35:09'\n",
       "\\item '3/31/2020 14:37:33'\n",
       "\\item '3/31/2020 14:47:53'\n",
       "\\item '3/31/2020 14:48:07'\n",
       "\\item '3/31/2020 14:53:21'\n",
       "\\item '3/31/2020 14:53:39'\n",
       "\\item '3/31/2020 14:54:21'\n",
       "\\item '3/31/2020 14:55:58'\n",
       "\\item '3/31/2020 14:58:03'\n",
       "\\item '3/31/2020 14:59:25'\n",
       "\\item '3/31/2020 15:00:59'\n",
       "\\item '3/31/2020 15:01:15'\n",
       "\\item '3/31/2020 15:03:17'\n",
       "\\item '3/31/2020 15:04:33'\n",
       "\\item '3/31/2020 15:07:00'\n",
       "\\item '3/31/2020 15:07:25'\n",
       "\\item '3/31/2020 15:19:53'\n",
       "\\item '3/31/2020 15:23:00'\n",
       "\\item '3/31/2020 15:26:58'\n",
       "\\item '3/31/2020 15:29:23'\n",
       "\\item '3/31/2020 18:15:20'\n",
       "\\item '3/31/2020 20:10:38'\n",
       "\\end{enumerate*}\n"
      ],
      "text/markdown": [
       "1. 3/31/2020 14:12:05\n",
       "2. 3/31/2020 14:13:21\n",
       "3. 3/31/2020 14:14:09\n",
       "4. 3/31/2020 14:14:11\n",
       "5. 3/31/2020 14:14:24\n",
       "6. 3/31/2020 14:14:32\n",
       "7. 3/31/2020 14:17:18\n",
       "8. 3/31/2020 14:17:35\n",
       "9. 3/31/2020 14:19:37\n",
       "10. 3/31/2020 14:21:20\n",
       "11. 3/31/2020 14:23:03\n",
       "12. 3/31/2020 14:29:17\n",
       "13. 3/31/2020 14:35:09\n",
       "14. 3/31/2020 14:37:33\n",
       "15. 3/31/2020 14:47:53\n",
       "16. 3/31/2020 14:48:07\n",
       "17. 3/31/2020 14:53:21\n",
       "18. 3/31/2020 14:53:39\n",
       "19. 3/31/2020 14:54:21\n",
       "20. 3/31/2020 14:55:58\n",
       "21. 3/31/2020 14:58:03\n",
       "22. 3/31/2020 14:59:25\n",
       "23. 3/31/2020 15:00:59\n",
       "24. 3/31/2020 15:01:15\n",
       "25. 3/31/2020 15:03:17\n",
       "26. 3/31/2020 15:04:33\n",
       "27. 3/31/2020 15:07:00\n",
       "28. 3/31/2020 15:07:25\n",
       "29. 3/31/2020 15:19:53\n",
       "30. 3/31/2020 15:23:00\n",
       "31. 3/31/2020 15:26:58\n",
       "32. 3/31/2020 15:29:23\n",
       "33. 3/31/2020 18:15:20\n",
       "34. 3/31/2020 20:10:38\n",
       "\n",
       "\n",
       "\n",
       "**Levels**: 1. '3/31/2020 14:12:05'\n",
       "2. '3/31/2020 14:13:21'\n",
       "3. '3/31/2020 14:14:09'\n",
       "4. '3/31/2020 14:14:11'\n",
       "5. '3/31/2020 14:14:24'\n",
       "6. '3/31/2020 14:14:32'\n",
       "7. '3/31/2020 14:17:18'\n",
       "8. '3/31/2020 14:17:35'\n",
       "9. '3/31/2020 14:19:37'\n",
       "10. '3/31/2020 14:21:20'\n",
       "11. '3/31/2020 14:23:03'\n",
       "12. '3/31/2020 14:29:17'\n",
       "13. '3/31/2020 14:35:09'\n",
       "14. '3/31/2020 14:37:33'\n",
       "15. '3/31/2020 14:47:53'\n",
       "16. '3/31/2020 14:48:07'\n",
       "17. '3/31/2020 14:53:21'\n",
       "18. '3/31/2020 14:53:39'\n",
       "19. '3/31/2020 14:54:21'\n",
       "20. '3/31/2020 14:55:58'\n",
       "21. '3/31/2020 14:58:03'\n",
       "22. '3/31/2020 14:59:25'\n",
       "23. '3/31/2020 15:00:59'\n",
       "24. '3/31/2020 15:01:15'\n",
       "25. '3/31/2020 15:03:17'\n",
       "26. '3/31/2020 15:04:33'\n",
       "27. '3/31/2020 15:07:00'\n",
       "28. '3/31/2020 15:07:25'\n",
       "29. '3/31/2020 15:19:53'\n",
       "30. '3/31/2020 15:23:00'\n",
       "31. '3/31/2020 15:26:58'\n",
       "32. '3/31/2020 15:29:23'\n",
       "33. '3/31/2020 18:15:20'\n",
       "34. '3/31/2020 20:10:38'\n",
       "\n",
       "\n"
      ],
      "text/plain": [
       " [1] 3/31/2020 14:12:05 3/31/2020 14:13:21 3/31/2020 14:14:09 3/31/2020 14:14:11\n",
       " [5] 3/31/2020 14:14:24 3/31/2020 14:14:32 3/31/2020 14:17:18 3/31/2020 14:17:35\n",
       " [9] 3/31/2020 14:19:37 3/31/2020 14:21:20 3/31/2020 14:23:03 3/31/2020 14:29:17\n",
       "[13] 3/31/2020 14:35:09 3/31/2020 14:37:33 3/31/2020 14:47:53 3/31/2020 14:48:07\n",
       "[17] 3/31/2020 14:53:21 3/31/2020 14:53:39 3/31/2020 14:54:21 3/31/2020 14:55:58\n",
       "[21] 3/31/2020 14:58:03 3/31/2020 14:59:25 3/31/2020 15:00:59 3/31/2020 15:01:15\n",
       "[25] 3/31/2020 15:03:17 3/31/2020 15:04:33 3/31/2020 15:07:00 3/31/2020 15:07:25\n",
       "[29] 3/31/2020 15:19:53 3/31/2020 15:23:00 3/31/2020 15:26:58 3/31/2020 15:29:23\n",
       "[33] 3/31/2020 18:15:20 3/31/2020 20:10:38\n",
       "34 Levels: 3/31/2020 14:12:05 3/31/2020 14:13:21 ... 3/31/2020 20:10:38"
      ]
     },
     "metadata": {},
     "output_type": "display_data"
    }
   ],
   "source": [
    "cuest$Timestamp"
   ]
  },
  {
   "cell_type": "markdown",
   "metadata": {},
   "source": [
    "Ahora que tengo identificada la variable que quiero quitar del data frame vamos a borrarla asignándole a esta columna el valor \"NULL\" que significa nulo:"
   ]
  },
  {
   "cell_type": "code",
   "execution_count": 18,
   "metadata": {},
   "outputs": [],
   "source": [
    "cuest$Timestamp <- NULL"
   ]
  },
  {
   "cell_type": "code",
   "execution_count": 19,
   "metadata": {},
   "outputs": [
    {
     "name": "stdout",
     "output_type": "stream",
     "text": [
      "'data.frame':\t34 obs. of  4 variables:\n",
      " $ Edad.en.años.                   : int  30 29 29 28 30 29 29 20 39 49 ...\n",
      " $ Estatura.en.centímetros.        : num  190 170 166 184 167 180 175 160 155 186 ...\n",
      " $ Talla.de.calzado.en.centímetros.: num  7 70 255 28 27.5 28 28.5 23 23 28 ...\n",
      " $ X.Le.gusta.la.pizza.con.piña.   : Factor w/ 2 levels \"No\",\"Si\": 1 1 2 2 2 2 2 1 2 2 ...\n"
     ]
    }
   ],
   "source": [
    "str(cuest)"
   ]
  },
  {
   "cell_type": "markdown",
   "metadata": {},
   "source": [
    "Por fin tenemos la tabla de datos para trabajar. Si han sido observadores, seguramente ya notaron un par de valores que no tienen sentido, veamos la tabla otra vez:"
   ]
  },
  {
   "cell_type": "code",
   "execution_count": 20,
   "metadata": {},
   "outputs": [
    {
     "data": {
      "text/html": [
       "<table>\n",
       "<thead><tr><th scope=col>Edad.en.años.</th><th scope=col>Estatura.en.centímetros.</th><th scope=col>Talla.de.calzado.en.centímetros.</th><th scope=col>X.Le.gusta.la.pizza.con.piña.</th></tr></thead>\n",
       "<tbody>\n",
       "\t<tr><td>30   </td><td>190  </td><td>  7.0</td><td>No   </td></tr>\n",
       "\t<tr><td>29   </td><td>170  </td><td> 70.0</td><td>No   </td></tr>\n",
       "\t<tr><td>29   </td><td>166  </td><td>255.0</td><td>Si   </td></tr>\n",
       "\t<tr><td>28   </td><td>184  </td><td> 28.0</td><td>Si   </td></tr>\n",
       "\t<tr><td>30   </td><td>167  </td><td> 27.5</td><td>Si   </td></tr>\n",
       "\t<tr><td>29   </td><td>180  </td><td> 28.0</td><td>Si   </td></tr>\n",
       "</tbody>\n",
       "</table>\n"
      ],
      "text/latex": [
       "\\begin{tabular}{r|llll}\n",
       " Edad.en.años. & Estatura.en.centímetros. & Talla.de.calzado.en.centímetros. & X.Le.gusta.la.pizza.con.piña.\\\\\n",
       "\\hline\n",
       "\t 30    & 190   &   7.0 & No   \\\\\n",
       "\t 29    & 170   &  70.0 & No   \\\\\n",
       "\t 29    & 166   & 255.0 & Si   \\\\\n",
       "\t 28    & 184   &  28.0 & Si   \\\\\n",
       "\t 30    & 167   &  27.5 & Si   \\\\\n",
       "\t 29    & 180   &  28.0 & Si   \\\\\n",
       "\\end{tabular}\n"
      ],
      "text/markdown": [
       "\n",
       "Edad.en.años. | Estatura.en.centímetros. | Talla.de.calzado.en.centímetros. | X.Le.gusta.la.pizza.con.piña. | \n",
       "|---|---|---|---|---|---|\n",
       "| 30    | 190   |   7.0 | No    | \n",
       "| 29    | 170   |  70.0 | No    | \n",
       "| 29    | 166   | 255.0 | Si    | \n",
       "| 28    | 184   |  28.0 | Si    | \n",
       "| 30    | 167   |  27.5 | Si    | \n",
       "| 29    | 180   |  28.0 | Si    | \n",
       "\n",
       "\n"
      ],
      "text/plain": [
       "  Edad.en.años. Estatura.en.centímetros. Talla.de.calzado.en.centímetros.\n",
       "1 30            190                        7.0                           \n",
       "2 29            170                       70.0                           \n",
       "3 29            166                      255.0                           \n",
       "4 28            184                       28.0                           \n",
       "5 30            167                       27.5                           \n",
       "6 29            180                       28.0                           \n",
       "  X.Le.gusta.la.pizza.con.piña.\n",
       "1 No                           \n",
       "2 No                           \n",
       "3 Si                           \n",
       "4 Si                           \n",
       "5 Si                           \n",
       "6 Si                           "
      ]
     },
     "metadata": {},
     "output_type": "display_data"
    }
   ],
   "source": [
    "head(cuest)"
   ]
  },
  {
   "cell_type": "code",
   "execution_count": 21,
   "metadata": {},
   "outputs": [
    {
     "data": {
      "text/html": [
       "<table>\n",
       "<thead><tr><th scope=col>Edad.en.años.</th><th scope=col>Estatura.en.centímetros.</th><th scope=col>Talla.de.calzado.en.centímetros.</th><th scope=col>X.Le.gusta.la.pizza.con.piña.</th></tr></thead>\n",
       "<tbody>\n",
       "\t<tr><td>30 </td><td>190</td><td>7  </td><td>No </td></tr>\n",
       "</tbody>\n",
       "</table>\n"
      ],
      "text/latex": [
       "\\begin{tabular}{r|llll}\n",
       " Edad.en.años. & Estatura.en.centímetros. & Talla.de.calzado.en.centímetros. & X.Le.gusta.la.pizza.con.piña.\\\\\n",
       "\\hline\n",
       "\t 30  & 190 & 7   & No \\\\\n",
       "\\end{tabular}\n"
      ],
      "text/markdown": [
       "\n",
       "Edad.en.años. | Estatura.en.centímetros. | Talla.de.calzado.en.centímetros. | X.Le.gusta.la.pizza.con.piña. | \n",
       "|---|\n",
       "| 30  | 190 | 7   | No  | \n",
       "\n",
       "\n"
      ],
      "text/plain": [
       "  Edad.en.años. Estatura.en.centímetros. Talla.de.calzado.en.centímetros.\n",
       "1 30            190                      7                               \n",
       "  X.Le.gusta.la.pizza.con.piña.\n",
       "1 No                           "
      ]
     },
     "metadata": {},
     "output_type": "display_data"
    }
   ],
   "source": [
    "cuest[1,]"
   ]
  },
  {
   "cell_type": "code",
   "execution_count": 22,
   "metadata": {},
   "outputs": [
    {
     "data": {
      "text/html": [
       "<table>\n",
       "<thead><tr><th></th><th scope=col>Edad.en.años.</th><th scope=col>Estatura.en.centímetros.</th><th scope=col>Talla.de.calzado.en.centímetros.</th><th scope=col>X.Le.gusta.la.pizza.con.piña.</th></tr></thead>\n",
       "<tbody>\n",
       "\t<tr><th scope=row>2</th><td>29 </td><td>170</td><td>70 </td><td>No </td></tr>\n",
       "</tbody>\n",
       "</table>\n"
      ],
      "text/latex": [
       "\\begin{tabular}{r|llll}\n",
       "  & Edad.en.años. & Estatura.en.centímetros. & Talla.de.calzado.en.centímetros. & X.Le.gusta.la.pizza.con.piña.\\\\\n",
       "\\hline\n",
       "\t2 & 29  & 170 & 70  & No \\\\\n",
       "\\end{tabular}\n"
      ],
      "text/markdown": [
       "\n",
       "| <!--/--> | Edad.en.años. | Estatura.en.centímetros. | Talla.de.calzado.en.centímetros. | X.Le.gusta.la.pizza.con.piña. | \n",
       "|---|\n",
       "| 2 | 29  | 170 | 70  | No  | \n",
       "\n",
       "\n"
      ],
      "text/plain": [
       "  Edad.en.años. Estatura.en.centímetros. Talla.de.calzado.en.centímetros.\n",
       "2 29            170                      70                              \n",
       "  X.Le.gusta.la.pizza.con.piña.\n",
       "2 No                           "
      ]
     },
     "metadata": {},
     "output_type": "display_data"
    }
   ],
   "source": [
    "cuest[2,]"
   ]
  },
  {
   "cell_type": "code",
   "execution_count": 23,
   "metadata": {},
   "outputs": [
    {
     "data": {
      "text/html": [
       "<table>\n",
       "<thead><tr><th></th><th scope=col>Edad.en.años.</th><th scope=col>Estatura.en.centímetros.</th><th scope=col>Talla.de.calzado.en.centímetros.</th><th scope=col>X.Le.gusta.la.pizza.con.piña.</th></tr></thead>\n",
       "<tbody>\n",
       "\t<tr><th scope=row>3</th><td>29 </td><td>166</td><td>255</td><td>Si </td></tr>\n",
       "</tbody>\n",
       "</table>\n"
      ],
      "text/latex": [
       "\\begin{tabular}{r|llll}\n",
       "  & Edad.en.años. & Estatura.en.centímetros. & Talla.de.calzado.en.centímetros. & X.Le.gusta.la.pizza.con.piña.\\\\\n",
       "\\hline\n",
       "\t3 & 29  & 166 & 255 & Si \\\\\n",
       "\\end{tabular}\n"
      ],
      "text/markdown": [
       "\n",
       "| <!--/--> | Edad.en.años. | Estatura.en.centímetros. | Talla.de.calzado.en.centímetros. | X.Le.gusta.la.pizza.con.piña. | \n",
       "|---|\n",
       "| 3 | 29  | 166 | 255 | Si  | \n",
       "\n",
       "\n"
      ],
      "text/plain": [
       "  Edad.en.años. Estatura.en.centímetros. Talla.de.calzado.en.centímetros.\n",
       "3 29            166                      255                             \n",
       "  X.Le.gusta.la.pizza.con.piña.\n",
       "3 Si                           "
      ]
     },
     "metadata": {},
     "output_type": "display_data"
    }
   ],
   "source": [
    "cuest[3,]"
   ]
  },
  {
   "cell_type": "markdown",
   "metadata": {},
   "source": [
    "Es muy poco probable que estas personas tengan pies de 7, 70 y 255 centímetros, respectivamente. Aunque siempre es más recomendable borar estas observaciones extrañas, vamos a suponer que la primera persona tiene un pie de 27 cm, la segunda de 27 cm y la tercera de 25.5 cm. Por fines pedagógicos vamos a indexarlas y sustituírlas. "
   ]
  },
  {
   "cell_type": "code",
   "execution_count": 24,
   "metadata": {},
   "outputs": [
    {
     "data": {
      "text/html": [
       "7"
      ],
      "text/latex": [
       "7"
      ],
      "text/markdown": [
       "7"
      ],
      "text/plain": [
       "[1] 7"
      ]
     },
     "metadata": {},
     "output_type": "display_data"
    }
   ],
   "source": [
    "cuest[1,3]"
   ]
  },
  {
   "cell_type": "code",
   "execution_count": 25,
   "metadata": {},
   "outputs": [],
   "source": [
    "cuest[1,3] <- 27"
   ]
  },
  {
   "cell_type": "code",
   "execution_count": 26,
   "metadata": {},
   "outputs": [
    {
     "data": {
      "text/html": [
       "70"
      ],
      "text/latex": [
       "70"
      ],
      "text/markdown": [
       "70"
      ],
      "text/plain": [
       "[1] 70"
      ]
     },
     "metadata": {},
     "output_type": "display_data"
    }
   ],
   "source": [
    "cuest[2,3]"
   ]
  },
  {
   "cell_type": "code",
   "execution_count": 27,
   "metadata": {},
   "outputs": [],
   "source": [
    "cuest[2,3] <- 27"
   ]
  },
  {
   "cell_type": "code",
   "execution_count": 28,
   "metadata": {},
   "outputs": [
    {
     "data": {
      "text/html": [
       "255"
      ],
      "text/latex": [
       "255"
      ],
      "text/markdown": [
       "255"
      ],
      "text/plain": [
       "[1] 255"
      ]
     },
     "metadata": {},
     "output_type": "display_data"
    }
   ],
   "source": [
    "cuest[3,3]"
   ]
  },
  {
   "cell_type": "code",
   "execution_count": 29,
   "metadata": {},
   "outputs": [],
   "source": [
    "cuest[3,3] <- 25.5"
   ]
  },
  {
   "cell_type": "code",
   "execution_count": 30,
   "metadata": {
    "scrolled": true
   },
   "outputs": [
    {
     "data": {
      "text/html": [
       "<table>\n",
       "<thead><tr><th scope=col>Edad.en.años.</th><th scope=col>Estatura.en.centímetros.</th><th scope=col>Talla.de.calzado.en.centímetros.</th><th scope=col>X.Le.gusta.la.pizza.con.piña.</th></tr></thead>\n",
       "<tbody>\n",
       "\t<tr><td>30  </td><td>190 </td><td>27.0</td><td>No  </td></tr>\n",
       "\t<tr><td>29  </td><td>170 </td><td>27.0</td><td>No  </td></tr>\n",
       "\t<tr><td>29  </td><td>166 </td><td>25.5</td><td>Si  </td></tr>\n",
       "\t<tr><td>28  </td><td>184 </td><td>28.0</td><td>Si  </td></tr>\n",
       "\t<tr><td>30  </td><td>167 </td><td>27.5</td><td>Si  </td></tr>\n",
       "\t<tr><td>29  </td><td>180 </td><td>28.0</td><td>Si  </td></tr>\n",
       "</tbody>\n",
       "</table>\n"
      ],
      "text/latex": [
       "\\begin{tabular}{r|llll}\n",
       " Edad.en.años. & Estatura.en.centímetros. & Talla.de.calzado.en.centímetros. & X.Le.gusta.la.pizza.con.piña.\\\\\n",
       "\\hline\n",
       "\t 30   & 190  & 27.0 & No  \\\\\n",
       "\t 29   & 170  & 27.0 & No  \\\\\n",
       "\t 29   & 166  & 25.5 & Si  \\\\\n",
       "\t 28   & 184  & 28.0 & Si  \\\\\n",
       "\t 30   & 167  & 27.5 & Si  \\\\\n",
       "\t 29   & 180  & 28.0 & Si  \\\\\n",
       "\\end{tabular}\n"
      ],
      "text/markdown": [
       "\n",
       "Edad.en.años. | Estatura.en.centímetros. | Talla.de.calzado.en.centímetros. | X.Le.gusta.la.pizza.con.piña. | \n",
       "|---|---|---|---|---|---|\n",
       "| 30   | 190  | 27.0 | No   | \n",
       "| 29   | 170  | 27.0 | No   | \n",
       "| 29   | 166  | 25.5 | Si   | \n",
       "| 28   | 184  | 28.0 | Si   | \n",
       "| 30   | 167  | 27.5 | Si   | \n",
       "| 29   | 180  | 28.0 | Si   | \n",
       "\n",
       "\n"
      ],
      "text/plain": [
       "  Edad.en.años. Estatura.en.centímetros. Talla.de.calzado.en.centímetros.\n",
       "1 30            190                      27.0                            \n",
       "2 29            170                      27.0                            \n",
       "3 29            166                      25.5                            \n",
       "4 28            184                      28.0                            \n",
       "5 30            167                      27.5                            \n",
       "6 29            180                      28.0                            \n",
       "  X.Le.gusta.la.pizza.con.piña.\n",
       "1 No                           \n",
       "2 No                           \n",
       "3 Si                           \n",
       "4 Si                           \n",
       "5 Si                           \n",
       "6 Si                           "
      ]
     },
     "metadata": {},
     "output_type": "display_data"
    }
   ],
   "source": [
    "head(cuest)"
   ]
  },
  {
   "cell_type": "markdown",
   "metadata": {},
   "source": [
    "Esta tabla tiene más sentido, aunque estos son solo los primeros valores de la tabla. En lares más profundos hubo más gente que metió sus datos de manera incorrecta. Como me da flojera buscarlas a ojo en la tabla, vamos a interrogar al data frame usando indexación y operadores lógicos como igual \"==\", mayor que \">\" y menor que \"<\".\n",
    "Primero vamos a ver si alguien más puso su talla en escala mexicana en vez de centímetros:"
   ]
  },
  {
   "cell_type": "code",
   "execution_count": 31,
   "metadata": {},
   "outputs": [
    {
     "data": {
      "text/html": [
       "<table>\n",
       "<thead><tr><th></th><th scope=col>Edad.en.años.</th><th scope=col>Estatura.en.centímetros.</th><th scope=col>Talla.de.calzado.en.centímetros.</th><th scope=col>X.Le.gusta.la.pizza.con.piña.</th></tr></thead>\n",
       "<tbody>\n",
       "\t<tr><th scope=row>23</th><td>26 </td><td>1.7</td><td>6.5</td><td>No </td></tr>\n",
       "</tbody>\n",
       "</table>\n"
      ],
      "text/latex": [
       "\\begin{tabular}{r|llll}\n",
       "  & Edad.en.años. & Estatura.en.centímetros. & Talla.de.calzado.en.centímetros. & X.Le.gusta.la.pizza.con.piña.\\\\\n",
       "\\hline\n",
       "\t23 & 26  & 1.7 & 6.5 & No \\\\\n",
       "\\end{tabular}\n"
      ],
      "text/markdown": [
       "\n",
       "| <!--/--> | Edad.en.años. | Estatura.en.centímetros. | Talla.de.calzado.en.centímetros. | X.Le.gusta.la.pizza.con.piña. | \n",
       "|---|\n",
       "| 23 | 26  | 1.7 | 6.5 | No  | \n",
       "\n",
       "\n"
      ],
      "text/plain": [
       "   Edad.en.años. Estatura.en.centímetros. Talla.de.calzado.en.centímetros.\n",
       "23 26            1.7                      6.5                             \n",
       "   X.Le.gusta.la.pizza.con.piña.\n",
       "23 No                           "
      ]
     },
     "metadata": {},
     "output_type": "display_data"
    }
   ],
   "source": [
    "cuest[cuest$Talla.de.calzado.en.centímetros. < 10,]"
   ]
  },
  {
   "cell_type": "markdown",
   "metadata": {},
   "source": [
    "Ahora vamos a buscar si alguien puso su estatura en metros en vez de centímetros:"
   ]
  },
  {
   "cell_type": "code",
   "execution_count": 32,
   "metadata": {},
   "outputs": [
    {
     "data": {
      "text/html": [
       "<table>\n",
       "<thead><tr><th></th><th scope=col>Edad.en.años.</th><th scope=col>Estatura.en.centímetros.</th><th scope=col>Talla.de.calzado.en.centímetros.</th><th scope=col>X.Le.gusta.la.pizza.con.piña.</th></tr></thead>\n",
       "<tbody>\n",
       "\t<tr><th scope=row>21</th><td>43   </td><td> 1.68</td><td>26.5 </td><td>Si   </td></tr>\n",
       "\t<tr><th scope=row>22</th><td>43   </td><td> 1.68</td><td>26.5 </td><td>Si   </td></tr>\n",
       "\t<tr><th scope=row>23</th><td>26   </td><td> 1.70</td><td> 6.5 </td><td>No   </td></tr>\n",
       "\t<tr><th scope=row>27</th><td>50   </td><td>75.00</td><td>27.0 </td><td>Si   </td></tr>\n",
       "\t<tr><th scope=row>29</th><td>50   </td><td> 1.72</td><td>27.0 </td><td>Si   </td></tr>\n",
       "\t<tr><th scope=row>33</th><td>64   </td><td> 1.69</td><td>26.0 </td><td>Si   </td></tr>\n",
       "</tbody>\n",
       "</table>\n"
      ],
      "text/latex": [
       "\\begin{tabular}{r|llll}\n",
       "  & Edad.en.años. & Estatura.en.centímetros. & Talla.de.calzado.en.centímetros. & X.Le.gusta.la.pizza.con.piña.\\\\\n",
       "\\hline\n",
       "\t21 & 43    &  1.68 & 26.5  & Si   \\\\\n",
       "\t22 & 43    &  1.68 & 26.5  & Si   \\\\\n",
       "\t23 & 26    &  1.70 &  6.5  & No   \\\\\n",
       "\t27 & 50    & 75.00 & 27.0  & Si   \\\\\n",
       "\t29 & 50    &  1.72 & 27.0  & Si   \\\\\n",
       "\t33 & 64    &  1.69 & 26.0  & Si   \\\\\n",
       "\\end{tabular}\n"
      ],
      "text/markdown": [
       "\n",
       "| <!--/--> | Edad.en.años. | Estatura.en.centímetros. | Talla.de.calzado.en.centímetros. | X.Le.gusta.la.pizza.con.piña. | \n",
       "|---|---|---|---|---|---|\n",
       "| 21 | 43    |  1.68 | 26.5  | Si    | \n",
       "| 22 | 43    |  1.68 | 26.5  | Si    | \n",
       "| 23 | 26    |  1.70 |  6.5  | No    | \n",
       "| 27 | 50    | 75.00 | 27.0  | Si    | \n",
       "| 29 | 50    |  1.72 | 27.0  | Si    | \n",
       "| 33 | 64    |  1.69 | 26.0  | Si    | \n",
       "\n",
       "\n"
      ],
      "text/plain": [
       "   Edad.en.años. Estatura.en.centímetros. Talla.de.calzado.en.centímetros.\n",
       "21 43             1.68                    26.5                            \n",
       "22 43             1.68                    26.5                            \n",
       "23 26             1.70                     6.5                            \n",
       "27 50            75.00                    27.0                            \n",
       "29 50             1.72                    27.0                            \n",
       "33 64             1.69                    26.0                            \n",
       "   X.Le.gusta.la.pizza.con.piña.\n",
       "21 Si                           \n",
       "22 Si                           \n",
       "23 No                           \n",
       "27 Si                           \n",
       "29 Si                           \n",
       "33 Si                           "
      ]
     },
     "metadata": {},
     "output_type": "display_data"
    }
   ],
   "source": [
    "cuest[cuest$Estatura.en.centímetros. < 100,]"
   ]
  },
  {
   "cell_type": "markdown",
   "metadata": {},
   "source": [
    "Al parecer hubo quien, por alguna razón, puso su estatura en centímetros y luego le restó 100, se dio cuenta de su error y volvió a mandar su respuesta pero la \"corrigió\" mal. También hubo quien simplemente mandó su respuesta errónea dos veces. Además, una persona puso su estatura en metros y no conforme con eso, puso la talla de sus zapatos en escala mexicana.\n",
    "\n",
    "https://pngimage.net/wp-content/uploads/2018/06/jackie-chan-meme-png-3.png\n",
    "\n",
    "Vamos a borrar todas estas observaciones. Primero visualizaremos las observaciones fallidas indexando varias filas a la vez utilizando la función *c()* para delimitar las filas y columnas que queremos ver:"
   ]
  },
  {
   "cell_type": "code",
   "execution_count": 33,
   "metadata": {
    "scrolled": false
   },
   "outputs": [
    {
     "data": {
      "text/html": [
       "<table>\n",
       "<thead><tr><th></th><th scope=col>Edad.en.años.</th><th scope=col>Estatura.en.centímetros.</th><th scope=col>Talla.de.calzado.en.centímetros.</th><th scope=col>X.Le.gusta.la.pizza.con.piña.</th></tr></thead>\n",
       "<tbody>\n",
       "\t<tr><th scope=row>21</th><td>43   </td><td> 1.68</td><td>26.5 </td><td>Si   </td></tr>\n",
       "\t<tr><th scope=row>22</th><td>43   </td><td> 1.68</td><td>26.5 </td><td>Si   </td></tr>\n",
       "\t<tr><th scope=row>23</th><td>26   </td><td> 1.70</td><td> 6.5 </td><td>No   </td></tr>\n",
       "\t<tr><th scope=row>27</th><td>50   </td><td>75.00</td><td>27.0 </td><td>Si   </td></tr>\n",
       "\t<tr><th scope=row>29</th><td>50   </td><td> 1.72</td><td>27.0 </td><td>Si   </td></tr>\n",
       "\t<tr><th scope=row>33</th><td>64   </td><td> 1.69</td><td>26.0 </td><td>Si   </td></tr>\n",
       "</tbody>\n",
       "</table>\n"
      ],
      "text/latex": [
       "\\begin{tabular}{r|llll}\n",
       "  & Edad.en.años. & Estatura.en.centímetros. & Talla.de.calzado.en.centímetros. & X.Le.gusta.la.pizza.con.piña.\\\\\n",
       "\\hline\n",
       "\t21 & 43    &  1.68 & 26.5  & Si   \\\\\n",
       "\t22 & 43    &  1.68 & 26.5  & Si   \\\\\n",
       "\t23 & 26    &  1.70 &  6.5  & No   \\\\\n",
       "\t27 & 50    & 75.00 & 27.0  & Si   \\\\\n",
       "\t29 & 50    &  1.72 & 27.0  & Si   \\\\\n",
       "\t33 & 64    &  1.69 & 26.0  & Si   \\\\\n",
       "\\end{tabular}\n"
      ],
      "text/markdown": [
       "\n",
       "| <!--/--> | Edad.en.años. | Estatura.en.centímetros. | Talla.de.calzado.en.centímetros. | X.Le.gusta.la.pizza.con.piña. | \n",
       "|---|---|---|---|---|---|\n",
       "| 21 | 43    |  1.68 | 26.5  | Si    | \n",
       "| 22 | 43    |  1.68 | 26.5  | Si    | \n",
       "| 23 | 26    |  1.70 |  6.5  | No    | \n",
       "| 27 | 50    | 75.00 | 27.0  | Si    | \n",
       "| 29 | 50    |  1.72 | 27.0  | Si    | \n",
       "| 33 | 64    |  1.69 | 26.0  | Si    | \n",
       "\n",
       "\n"
      ],
      "text/plain": [
       "   Edad.en.años. Estatura.en.centímetros. Talla.de.calzado.en.centímetros.\n",
       "21 43             1.68                    26.5                            \n",
       "22 43             1.68                    26.5                            \n",
       "23 26             1.70                     6.5                            \n",
       "27 50            75.00                    27.0                            \n",
       "29 50             1.72                    27.0                            \n",
       "33 64             1.69                    26.0                            \n",
       "   X.Le.gusta.la.pizza.con.piña.\n",
       "21 Si                           \n",
       "22 Si                           \n",
       "23 No                           \n",
       "27 Si                           \n",
       "29 Si                           \n",
       "33 Si                           "
      ]
     },
     "metadata": {},
     "output_type": "display_data"
    }
   ],
   "source": [
    "cuest[c(21,22,23,27,29,33),]"
   ]
  },
  {
   "cell_type": "markdown",
   "metadata": {},
   "source": [
    "Para eliminar una fila no podemos usar el valor NULL pero podemos crear una nueva tabla que sea una copia de la original pero excluyendo las filas que queremos quitar usando el signo \"-\" y Luego renombramos la tabla filtrada:"
   ]
  },
  {
   "cell_type": "code",
   "execution_count": 34,
   "metadata": {},
   "outputs": [],
   "source": [
    "cuest.f <- cuest[c(-21,-22,-23,-27,-29,-33),]"
   ]
  },
  {
   "cell_type": "code",
   "execution_count": 35,
   "metadata": {},
   "outputs": [],
   "source": [
    "cuest <- cuest.f"
   ]
  },
  {
   "cell_type": "code",
   "execution_count": 36,
   "metadata": {},
   "outputs": [
    {
     "name": "stdout",
     "output_type": "stream",
     "text": [
      "'data.frame':\t28 obs. of  4 variables:\n",
      " $ Edad.en.años.                   : int  30 29 29 28 30 29 29 20 39 49 ...\n",
      " $ Estatura.en.centímetros.        : num  190 170 166 184 167 180 175 160 155 186 ...\n",
      " $ Talla.de.calzado.en.centímetros.: num  27 27 25.5 28 27.5 28 28.5 23 23 28 ...\n",
      " $ X.Le.gusta.la.pizza.con.piña.   : Factor w/ 2 levels \"No\",\"Si\": 1 1 2 2 2 2 2 1 2 2 ...\n"
     ]
    }
   ],
   "source": [
    "str(cuest)"
   ]
  },
  {
   "cell_type": "markdown",
   "metadata": {},
   "source": [
    "## Visualización básica\n",
    "\n",
    "Ahora que tenemos una tabla limpia vamos a revisar nuestros datos de manera gráfica. Primero vamos a declarar el tamaño de nuestras gráficas con la función options():"
   ]
  },
  {
   "cell_type": "code",
   "execution_count": 37,
   "metadata": {},
   "outputs": [],
   "source": [
    "options(repr.plot.width=5, repr.plot.height=5)"
   ]
  },
  {
   "cell_type": "markdown",
   "metadata": {},
   "source": [
    "Utilizaremos histogramas para ver la distribución de valores de cada variable con la función hist():"
   ]
  },
  {
   "cell_type": "code",
   "execution_count": 38,
   "metadata": {},
   "outputs": [
    {
     "data": {
      "image/png": "[encoded data removed]",
      "text/plain": [
       "Plot with title “Histogram of cuest$Edad.en.años.”"
      ]
     },
     "metadata": {},
     "output_type": "display_data"
    }
   ],
   "source": [
    "hist(cuest$Edad.en.años.)"
   ]
  },
  {
   "cell_type": "code",
   "execution_count": 39,
   "metadata": {},
   "outputs": [
    {
     "data": {
      "image/png": "[encoded data removed]",
      "text/plain": [
       "Plot with title “Histogram of cuest$Estatura.en.centímetros.”"
      ]
     },
     "metadata": {},
     "output_type": "display_data"
    }
   ],
   "source": [
    "hist(cuest$Estatura.en.centímetros.)"
   ]
  },
  {
   "cell_type": "code",
   "execution_count": 40,
   "metadata": {},
   "outputs": [
    {
     "data": {
      "image/png": "[encoded data removed]",
      "text/plain": [
       "Plot with title “Histogram of cuest$Talla.de.calzado.en.centímetros.”"
      ]
     },
     "metadata": {},
     "output_type": "display_data"
    }
   ],
   "source": [
    "hist(cuest$Talla.de.calzado.en.centímetros.)"
   ]
  },
  {
   "cell_type": "code",
   "execution_count": 41,
   "metadata": {},
   "outputs": [
    {
     "ename": "ERROR",
     "evalue": "Error in hist.default(cuest$X.Le.gusta.la.pizza.con.piña.): 'x' must be numeric\n",
     "output_type": "error",
     "traceback": [
      "Error in hist.default(cuest$X.Le.gusta.la.pizza.con.piña.): 'x' must be numeric\nTraceback:\n",
      "1. hist(cuest$X.Le.gusta.la.pizza.con.piña.)",
      "2. hist.default(cuest$X.Le.gusta.la.pizza.con.piña.)",
      "3. stop(\"'x' must be numeric\")"
     ]
    }
   ],
   "source": [
    "hist(cuest$X.Le.gusta.la.pizza.con.piña.)"
   ]
  },
  {
   "cell_type": "markdown",
   "metadata": {},
   "source": [
    "Como bien nos dice R, no es posible hacer un histograma con datos categóricos así que usaremos un gráfico de barras. Primero hay que contar la aparición de cada nivel del factor con la función table(): "
   ]
  },
  {
   "cell_type": "code",
   "execution_count": 42,
   "metadata": {},
   "outputs": [
    {
     "data": {
      "text/plain": [
       "\n",
       "No Si \n",
       " 7 21 "
      ]
     },
     "metadata": {},
     "output_type": "display_data"
    }
   ],
   "source": [
    "table(cuest$X.Le.gusta.la.pizza.con.piña.)"
   ]
  },
  {
   "cell_type": "markdown",
   "metadata": {},
   "source": [
    "Procedemos a graficar barras con barplot():"
   ]
  },
  {
   "cell_type": "code",
   "execution_count": 43,
   "metadata": {},
   "outputs": [
    {
     "data": {
      "image/png": "[encoded data removed]",
      "text/plain": [
       "plot without title"
      ]
     },
     "metadata": {},
     "output_type": "display_data"
    }
   ],
   "source": [
    "barplot(table(cuest$X.Le.gusta.la.pizza.con.piña.))"
   ]
  },
  {
   "cell_type": "markdown",
   "metadata": {},
   "source": [
    "Esta gráfica es poco informativa ya no tiene título y el eje y no tiene escala (como las gráficas que se usaron en los debates de candidatos presidenciables en 2018). Vamos a agregarlas con el argumento *main* y *xlab*:"
   ]
  },
  {
   "cell_type": "code",
   "execution_count": 44,
   "metadata": {},
   "outputs": [
    {
     "data": {
      "image/png": "[encoded data removed]",
      "text/plain": [
       "Plot with title “¿Le gusta la pizza con piña?”"
      ]
     },
     "metadata": {},
     "output_type": "display_data"
    }
   ],
   "source": [
    "barplot(table(cuest$X.Le.gusta.la.pizza.con.piña.), main=\"¿Le gusta la pizza con piña?\", ylab=\"Número de personas\")"
   ]
  },
  {
   "cell_type": "markdown",
   "metadata": {},
   "source": [
    "Ahora visualizaremos relaciones entre variables. Primero veamos qué relación hay entre la estatura y la talla del calzado:"
   ]
  },
  {
   "cell_type": "code",
   "execution_count": 45,
   "metadata": {},
   "outputs": [
    {
     "data": {
      "image/png": "[encoded data removed]",
      "text/plain": [
       "plot without title"
      ]
     },
     "metadata": {},
     "output_type": "display_data"
    }
   ],
   "source": [
    "plot(cuest$Estatura.en.centímetros.,cuest$Talla.de.calzado.en.centímetros.)"
   ]
  },
  {
   "cell_type": "markdown",
   "metadata": {},
   "source": [
    "Podemos replicar esta gráfica cambiando un poco la sintáxis de los argumentos de la función plot. Con tal fin, vamos a hacer explícita la relación que creemos que existe entre la estatura y la talla del calzado usando el operador \"~\" que se lee como \"se distribuye en función de\":"
   ]
  },
  {
   "cell_type": "code",
   "execution_count": 46,
   "metadata": {},
   "outputs": [
    {
     "data": {
      "image/png": "[encoded data removed]",
      "text/plain": [
       "plot without title"
      ]
     },
     "metadata": {},
     "output_type": "display_data"
    }
   ],
   "source": [
    "plot(cuest$Talla.de.calzado.en.centímetros.~cuest$Estatura.en.centímetros.)"
   ]
  },
  {
   "cell_type": "markdown",
   "metadata": {},
   "source": [
    "Ahora bien, también podemos simplificar un poco la llamada a los datos cuando estos se encuentran en un mismo data frame usando el argumento *data*:"
   ]
  },
  {
   "cell_type": "code",
   "execution_count": 47,
   "metadata": {},
   "outputs": [
    {
     "data": {
      "image/png": "[encoded data removed]",
      "text/plain": [
       "plot without title"
      ]
     },
     "metadata": {},
     "output_type": "display_data"
    }
   ],
   "source": [
    "plot(Talla.de.calzado.en.centímetros.~Estatura.en.centímetros., data=cuest)"
   ]
  },
  {
   "cell_type": "markdown",
   "metadata": {},
   "source": [
    "Noten que de esta forma los nombres de los ejes salen más limpios. Al parecer, a mayor estatura, aumenta la talla del pie. A continuación revisaremos si hay una relación entre la edad y el gusto por la pizza con piña con diagramas de caja (que ilustran cuantiles) con la función *boxplot()*:"
   ]
  },
  {
   "cell_type": "code",
   "execution_count": 48,
   "metadata": {},
   "outputs": [
    {
     "data": {
      "image/png": "[encoded data removed]",
      "text/plain": [
       "plot without title"
      ]
     },
     "metadata": {},
     "output_type": "display_data"
    }
   ],
   "source": [
    "boxplot(Edad.en.años.~X.Le.gusta.la.pizza.con.piña.,data=cuest, ylab=\"Edad\")"
   ]
  },
  {
   "cell_type": "markdown",
   "metadata": {},
   "source": [
    "Parece que lagente joven es más melindrosa. Veamos la relación del gusto por la pizza con piña con la estatura y la talla del calzado:"
   ]
  },
  {
   "cell_type": "code",
   "execution_count": 49,
   "metadata": {},
   "outputs": [
    {
     "data": {
      "image/png": "[encoded data removed]",
      "text/plain": [
       "plot without title"
      ]
     },
     "metadata": {},
     "output_type": "display_data"
    }
   ],
   "source": [
    "boxplot(Estatura.en.centímetros.~X.Le.gusta.la.pizza.con.piña.,data=cuest, ylab=\"Estatura\")"
   ]
  },
  {
   "cell_type": "code",
   "execution_count": 50,
   "metadata": {},
   "outputs": [
    {
     "data": {
      "image/png": "[encoded data removed]",
      "text/plain": [
       "plot without title"
      ]
     },
     "metadata": {},
     "output_type": "display_data"
    }
   ],
   "source": [
    "boxplot(Talla.de.calzado.en.centímetros.~X.Le.gusta.la.pizza.con.piña.,data=cuest, ylab=\"Talla de calzado\")"
   ]
  },
  {
   "cell_type": "markdown",
   "metadata": {},
   "source": [
    "Otra función útil de R es la capacidad de imprimir varias gráficas en una sola figura. Para ello se usa la función *par()* que define varios parámetros gráficos. El argumento que nos interesa ahora es *mfrow*, al cual se le ingresan las dimensiones de la figura que vamos a imprimir como si fuera una matriz:"
   ]
  },
  {
   "cell_type": "code",
   "execution_count": 51,
   "metadata": {},
   "outputs": [
    {
     "data": {
      "image/png": "[encoded data removed]",
      "text/plain": [
       "plot without title"
      ]
     },
     "metadata": {},
     "output_type": "display_data"
    }
   ],
   "source": [
    "par(mfrow=c(2,2))\n",
    "barplot(table(cuest$X.Le.gusta.la.pizza.con.piña.), ylab=\"Número de personas\")\n",
    "boxplot(Edad.en.años.~X.Le.gusta.la.pizza.con.piña.,data=cuest, ylab=\"Edad\")\n",
    "boxplot(Estatura.en.centímetros.~X.Le.gusta.la.pizza.con.piña.,data=cuest, ylab=\"Estatura\")\n",
    "boxplot(Talla.de.calzado.en.centímetros.~X.Le.gusta.la.pizza.con.piña.,data=cuest, ylab=\"Talla de calzado\")"
   ]
  },
  {
   "cell_type": "markdown",
   "metadata": {},
   "source": [
    "Vamos a ponerle un título a la gráfica y ajustarla un poco para hacerla más presentable:"
   ]
  },
  {
   "cell_type": "code",
   "execution_count": 52,
   "metadata": {},
   "outputs": [
    {
     "data": {
      "image/png": "[encoded data removed]",
      "text/plain": [
       "plot without title"
      ]
     },
     "metadata": {},
     "output_type": "display_data"
    }
   ],
   "source": [
    "par(mfrow=c(2,2),oma = c(0, 0, 2, 0), mar=c(2,6,2,1))\n",
    "barplot(table(cuest$X.Le.gusta.la.pizza.con.piña.), ylab=\"Número de personas\")\n",
    "boxplot(Edad.en.años.~X.Le.gusta.la.pizza.con.piña.,data=cuest, ylab=\"Edad\")\n",
    "boxplot(Estatura.en.centímetros.~X.Le.gusta.la.pizza.con.piña.,data=cuest, ylab=\"Estatura\")\n",
    "boxplot(Talla.de.calzado.en.centímetros.~X.Le.gusta.la.pizza.con.piña.,data=cuest, ylab=\"Talla de calzado\")\n",
    "mtext(\"¿Le gusta la pizza con piña?\", outer = TRUE)"
   ]
  },
  {
   "cell_type": "markdown",
   "metadata": {},
   "source": [
    "Para guardar gráficas en archivos en nuestro disco duro podemos usar la función *png()* para que R entienda que la figura que vamos a graficar a continuación la queremos guardada en un archivo con un nombre específico. Después graficamos y al final agregamos la función *dev.off()* para que R deje de escribir en el archivo y lo guarde en el disco duro de nuestra computadora:"
   ]
  },
  {
   "cell_type": "code",
   "execution_count": 53,
   "metadata": {},
   "outputs": [
    {
     "data": {
      "text/html": [
       "<strong>png:</strong> 2"
      ],
      "text/latex": [
       "\\textbf{png:} 2"
      ],
      "text/markdown": [
       "**png:** 2"
      ],
      "text/plain": [
       "png \n",
       "  2 "
      ]
     },
     "metadata": {},
     "output_type": "display_data"
    }
   ],
   "source": [
    "png('pinia_bxplots.png', width = 15, height = 15, units = \"cm\", res = 100)\n",
    "par(mfrow=c(2,2),oma = c(0, 0, 2, 0), mar=c(2,6,2,1))\n",
    "barplot(table(cuest$X.Le.gusta.la.pizza.con.piña.), ylab=\"Número de personas\")\n",
    "boxplot(Edad.en.años.~X.Le.gusta.la.pizza.con.piña.,data=cuest, ylab=\"Edad\")\n",
    "boxplot(Estatura.en.centímetros.~X.Le.gusta.la.pizza.con.piña.,data=cuest, ylab=\"Estatura\")\n",
    "boxplot(Talla.de.calzado.en.centímetros.~X.Le.gusta.la.pizza.con.piña.,data=cuest, ylab=\"Talla de calzado\")\n",
    "mtext(\"¿Le gusta la pizza con piña?\", outer = TRUE)\n",
    "dev.off()"
   ]
  },
  {
   "cell_type": "markdown",
   "metadata": {},
   "source": [
    "Esto es todo por ahora. Con que manejen el contenido de este tutorial ya pueden usar R para lo que lo usa la mayoría de la gente. Todavía vamos a tener una sesión más de R crudo para repasar conceptos de estadística y probabilidad antes de entrar de lleno a la bioinformática.\n",
    "\n",
    "## Tarea\n",
    "\n",
    "Ingresen los datos que consiguieron ustedes en R, límpienlos y repliquen las gráficas que aquí les muestro. Quiero que me entreguen en un archivo PDF los comandos que usaron además de las gráficas. Para finalizar, también quiero que me expliquen los argumentos y funciones que usé para agregar el título y ajustar la última figura, para esto pueden hacer búsquedas en internet. Si se atoran en algo no duden en escribirme."
   ]
  }
 ],
 "metadata": {
  "kernelspec": {
   "display_name": "R",
   "language": "R",
   "name": "ir"
  }
 },
 "nbformat": 4,
 "nbformat_minor": 2
}
